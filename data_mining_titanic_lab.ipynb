{
 "cells": [
  {
   "cell_type": "code",
   "execution_count": 1,
   "id": "834b27f2",
   "metadata": {},
   "outputs": [],
   "source": [
    "#DSCC240_Lab1\n",
    "#Xubin Lou\n",
    "#31524742"
   ]
  },
  {
   "cell_type": "code",
   "execution_count": 2,
   "id": "7170d9cf",
   "metadata": {},
   "outputs": [
    {
     "data": {
      "text/html": [
       "<div>\n",
       "<style scoped>\n",
       "    .dataframe tbody tr th:only-of-type {\n",
       "        vertical-align: middle;\n",
       "    }\n",
       "\n",
       "    .dataframe tbody tr th {\n",
       "        vertical-align: top;\n",
       "    }\n",
       "\n",
       "    .dataframe thead th {\n",
       "        text-align: right;\n",
       "    }\n",
       "</style>\n",
       "<table border=\"1\" class=\"dataframe\">\n",
       "  <thead>\n",
       "    <tr style=\"text-align: right;\">\n",
       "      <th></th>\n",
       "      <th>PassengerId</th>\n",
       "      <th>Survived</th>\n",
       "      <th>Pclass</th>\n",
       "      <th>Name</th>\n",
       "      <th>Sex</th>\n",
       "      <th>Age</th>\n",
       "      <th>SibSp</th>\n",
       "      <th>Parch</th>\n",
       "      <th>Ticket</th>\n",
       "      <th>Fare</th>\n",
       "      <th>Cabin</th>\n",
       "      <th>Embarked</th>\n",
       "    </tr>\n",
       "  </thead>\n",
       "  <tbody>\n",
       "    <tr>\n",
       "      <th>0</th>\n",
       "      <td>1</td>\n",
       "      <td>0</td>\n",
       "      <td>3</td>\n",
       "      <td>Braund, Mr. Owen Harris</td>\n",
       "      <td>male</td>\n",
       "      <td>22.0</td>\n",
       "      <td>1</td>\n",
       "      <td>0</td>\n",
       "      <td>A/5 21171</td>\n",
       "      <td>7.2500</td>\n",
       "      <td>NaN</td>\n",
       "      <td>S</td>\n",
       "    </tr>\n",
       "    <tr>\n",
       "      <th>1</th>\n",
       "      <td>2</td>\n",
       "      <td>1</td>\n",
       "      <td>1</td>\n",
       "      <td>Cumings, Mrs. John Bradley (Florence Briggs Th...</td>\n",
       "      <td>female</td>\n",
       "      <td>38.0</td>\n",
       "      <td>1</td>\n",
       "      <td>0</td>\n",
       "      <td>PC 17599</td>\n",
       "      <td>71.2833</td>\n",
       "      <td>C85</td>\n",
       "      <td>C</td>\n",
       "    </tr>\n",
       "    <tr>\n",
       "      <th>2</th>\n",
       "      <td>3</td>\n",
       "      <td>1</td>\n",
       "      <td>3</td>\n",
       "      <td>Heikkinen, Miss. Laina</td>\n",
       "      <td>female</td>\n",
       "      <td>26.0</td>\n",
       "      <td>0</td>\n",
       "      <td>0</td>\n",
       "      <td>STON/O2. 3101282</td>\n",
       "      <td>7.9250</td>\n",
       "      <td>NaN</td>\n",
       "      <td>S</td>\n",
       "    </tr>\n",
       "    <tr>\n",
       "      <th>3</th>\n",
       "      <td>4</td>\n",
       "      <td>1</td>\n",
       "      <td>1</td>\n",
       "      <td>Futrelle, Mrs. Jacques Heath (Lily May Peel)</td>\n",
       "      <td>female</td>\n",
       "      <td>35.0</td>\n",
       "      <td>1</td>\n",
       "      <td>0</td>\n",
       "      <td>113803</td>\n",
       "      <td>53.1000</td>\n",
       "      <td>C123</td>\n",
       "      <td>S</td>\n",
       "    </tr>\n",
       "    <tr>\n",
       "      <th>4</th>\n",
       "      <td>5</td>\n",
       "      <td>0</td>\n",
       "      <td>3</td>\n",
       "      <td>Allen, Mr. William Henry</td>\n",
       "      <td>male</td>\n",
       "      <td>35.0</td>\n",
       "      <td>0</td>\n",
       "      <td>0</td>\n",
       "      <td>373450</td>\n",
       "      <td>8.0500</td>\n",
       "      <td>NaN</td>\n",
       "      <td>S</td>\n",
       "    </tr>\n",
       "    <tr>\n",
       "      <th>...</th>\n",
       "      <td>...</td>\n",
       "      <td>...</td>\n",
       "      <td>...</td>\n",
       "      <td>...</td>\n",
       "      <td>...</td>\n",
       "      <td>...</td>\n",
       "      <td>...</td>\n",
       "      <td>...</td>\n",
       "      <td>...</td>\n",
       "      <td>...</td>\n",
       "      <td>...</td>\n",
       "      <td>...</td>\n",
       "    </tr>\n",
       "    <tr>\n",
       "      <th>886</th>\n",
       "      <td>887</td>\n",
       "      <td>0</td>\n",
       "      <td>2</td>\n",
       "      <td>Montvila, Rev. Juozas</td>\n",
       "      <td>male</td>\n",
       "      <td>27.0</td>\n",
       "      <td>0</td>\n",
       "      <td>0</td>\n",
       "      <td>211536</td>\n",
       "      <td>13.0000</td>\n",
       "      <td>NaN</td>\n",
       "      <td>S</td>\n",
       "    </tr>\n",
       "    <tr>\n",
       "      <th>887</th>\n",
       "      <td>888</td>\n",
       "      <td>1</td>\n",
       "      <td>1</td>\n",
       "      <td>Graham, Miss. Margaret Edith</td>\n",
       "      <td>female</td>\n",
       "      <td>19.0</td>\n",
       "      <td>0</td>\n",
       "      <td>0</td>\n",
       "      <td>112053</td>\n",
       "      <td>30.0000</td>\n",
       "      <td>B42</td>\n",
       "      <td>S</td>\n",
       "    </tr>\n",
       "    <tr>\n",
       "      <th>888</th>\n",
       "      <td>889</td>\n",
       "      <td>0</td>\n",
       "      <td>3</td>\n",
       "      <td>Johnston, Miss. Catherine Helen \"Carrie\"</td>\n",
       "      <td>female</td>\n",
       "      <td>NaN</td>\n",
       "      <td>1</td>\n",
       "      <td>2</td>\n",
       "      <td>W./C. 6607</td>\n",
       "      <td>23.4500</td>\n",
       "      <td>NaN</td>\n",
       "      <td>S</td>\n",
       "    </tr>\n",
       "    <tr>\n",
       "      <th>889</th>\n",
       "      <td>890</td>\n",
       "      <td>1</td>\n",
       "      <td>1</td>\n",
       "      <td>Behr, Mr. Karl Howell</td>\n",
       "      <td>male</td>\n",
       "      <td>26.0</td>\n",
       "      <td>0</td>\n",
       "      <td>0</td>\n",
       "      <td>111369</td>\n",
       "      <td>30.0000</td>\n",
       "      <td>C148</td>\n",
       "      <td>C</td>\n",
       "    </tr>\n",
       "    <tr>\n",
       "      <th>890</th>\n",
       "      <td>891</td>\n",
       "      <td>0</td>\n",
       "      <td>3</td>\n",
       "      <td>Dooley, Mr. Patrick</td>\n",
       "      <td>male</td>\n",
       "      <td>32.0</td>\n",
       "      <td>0</td>\n",
       "      <td>0</td>\n",
       "      <td>370376</td>\n",
       "      <td>7.7500</td>\n",
       "      <td>NaN</td>\n",
       "      <td>Q</td>\n",
       "    </tr>\n",
       "  </tbody>\n",
       "</table>\n",
       "<p>891 rows × 12 columns</p>\n",
       "</div>"
      ],
      "text/plain": [
       "     PassengerId  Survived  Pclass  \\\n",
       "0              1         0       3   \n",
       "1              2         1       1   \n",
       "2              3         1       3   \n",
       "3              4         1       1   \n",
       "4              5         0       3   \n",
       "..           ...       ...     ...   \n",
       "886          887         0       2   \n",
       "887          888         1       1   \n",
       "888          889         0       3   \n",
       "889          890         1       1   \n",
       "890          891         0       3   \n",
       "\n",
       "                                                  Name     Sex   Age  SibSp  \\\n",
       "0                              Braund, Mr. Owen Harris    male  22.0      1   \n",
       "1    Cumings, Mrs. John Bradley (Florence Briggs Th...  female  38.0      1   \n",
       "2                               Heikkinen, Miss. Laina  female  26.0      0   \n",
       "3         Futrelle, Mrs. Jacques Heath (Lily May Peel)  female  35.0      1   \n",
       "4                             Allen, Mr. William Henry    male  35.0      0   \n",
       "..                                                 ...     ...   ...    ...   \n",
       "886                              Montvila, Rev. Juozas    male  27.0      0   \n",
       "887                       Graham, Miss. Margaret Edith  female  19.0      0   \n",
       "888           Johnston, Miss. Catherine Helen \"Carrie\"  female   NaN      1   \n",
       "889                              Behr, Mr. Karl Howell    male  26.0      0   \n",
       "890                                Dooley, Mr. Patrick    male  32.0      0   \n",
       "\n",
       "     Parch            Ticket     Fare Cabin Embarked  \n",
       "0        0         A/5 21171   7.2500   NaN        S  \n",
       "1        0          PC 17599  71.2833   C85        C  \n",
       "2        0  STON/O2. 3101282   7.9250   NaN        S  \n",
       "3        0            113803  53.1000  C123        S  \n",
       "4        0            373450   8.0500   NaN        S  \n",
       "..     ...               ...      ...   ...      ...  \n",
       "886      0            211536  13.0000   NaN        S  \n",
       "887      0            112053  30.0000   B42        S  \n",
       "888      2        W./C. 6607  23.4500   NaN        S  \n",
       "889      0            111369  30.0000  C148        C  \n",
       "890      0            370376   7.7500   NaN        Q  \n",
       "\n",
       "[891 rows x 12 columns]"
      ]
     },
     "execution_count": 2,
     "metadata": {},
     "output_type": "execute_result"
    }
   ],
   "source": [
    "#Q1\n",
    "import pandas as pd #import pandas\n",
    "titanic_df=pd.read_excel('/Users/Carol/Desktop/titanic_data.xlsx') #read data from excel\n",
    "titanic_df #show the data"
   ]
  },
  {
   "cell_type": "code",
   "execution_count": 3,
   "id": "6557f333",
   "metadata": {},
   "outputs": [
    {
     "data": {
      "text/html": [
       "<div>\n",
       "<style scoped>\n",
       "    .dataframe tbody tr th:only-of-type {\n",
       "        vertical-align: middle;\n",
       "    }\n",
       "\n",
       "    .dataframe tbody tr th {\n",
       "        vertical-align: top;\n",
       "    }\n",
       "\n",
       "    .dataframe thead th {\n",
       "        text-align: right;\n",
       "    }\n",
       "</style>\n",
       "<table border=\"1\" class=\"dataframe\">\n",
       "  <thead>\n",
       "    <tr style=\"text-align: right;\">\n",
       "      <th></th>\n",
       "      <th>PassengerId</th>\n",
       "      <th>Survived</th>\n",
       "      <th>Pclass</th>\n",
       "      <th>Name</th>\n",
       "      <th>Sex</th>\n",
       "      <th>Age</th>\n",
       "      <th>SibSp</th>\n",
       "      <th>Parch</th>\n",
       "      <th>Ticket</th>\n",
       "      <th>Fare</th>\n",
       "      <th>Cabin</th>\n",
       "      <th>Embarked</th>\n",
       "    </tr>\n",
       "  </thead>\n",
       "  <tbody>\n",
       "    <tr>\n",
       "      <th>5</th>\n",
       "      <td>6</td>\n",
       "      <td>0</td>\n",
       "      <td>3</td>\n",
       "      <td>Moran, Mr. James</td>\n",
       "      <td>male</td>\n",
       "      <td>NaN</td>\n",
       "      <td>0</td>\n",
       "      <td>0</td>\n",
       "      <td>330877</td>\n",
       "      <td>8.4583</td>\n",
       "      <td>NaN</td>\n",
       "      <td>Q</td>\n",
       "    </tr>\n",
       "    <tr>\n",
       "      <th>17</th>\n",
       "      <td>18</td>\n",
       "      <td>1</td>\n",
       "      <td>2</td>\n",
       "      <td>Williams, Mr. Charles Eugene</td>\n",
       "      <td>male</td>\n",
       "      <td>NaN</td>\n",
       "      <td>0</td>\n",
       "      <td>0</td>\n",
       "      <td>244373</td>\n",
       "      <td>13.0000</td>\n",
       "      <td>NaN</td>\n",
       "      <td>S</td>\n",
       "    </tr>\n",
       "    <tr>\n",
       "      <th>19</th>\n",
       "      <td>20</td>\n",
       "      <td>1</td>\n",
       "      <td>3</td>\n",
       "      <td>Masselmani, Mrs. Fatima</td>\n",
       "      <td>female</td>\n",
       "      <td>NaN</td>\n",
       "      <td>0</td>\n",
       "      <td>0</td>\n",
       "      <td>2649</td>\n",
       "      <td>7.2250</td>\n",
       "      <td>NaN</td>\n",
       "      <td>C</td>\n",
       "    </tr>\n",
       "    <tr>\n",
       "      <th>26</th>\n",
       "      <td>27</td>\n",
       "      <td>0</td>\n",
       "      <td>3</td>\n",
       "      <td>Emir, Mr. Farred Chehab</td>\n",
       "      <td>male</td>\n",
       "      <td>NaN</td>\n",
       "      <td>0</td>\n",
       "      <td>0</td>\n",
       "      <td>2631</td>\n",
       "      <td>7.2250</td>\n",
       "      <td>NaN</td>\n",
       "      <td>C</td>\n",
       "    </tr>\n",
       "    <tr>\n",
       "      <th>28</th>\n",
       "      <td>29</td>\n",
       "      <td>1</td>\n",
       "      <td>3</td>\n",
       "      <td>O'Dwyer, Miss. Ellen \"Nellie\"</td>\n",
       "      <td>female</td>\n",
       "      <td>NaN</td>\n",
       "      <td>0</td>\n",
       "      <td>0</td>\n",
       "      <td>330959</td>\n",
       "      <td>7.8792</td>\n",
       "      <td>NaN</td>\n",
       "      <td>Q</td>\n",
       "    </tr>\n",
       "    <tr>\n",
       "      <th>...</th>\n",
       "      <td>...</td>\n",
       "      <td>...</td>\n",
       "      <td>...</td>\n",
       "      <td>...</td>\n",
       "      <td>...</td>\n",
       "      <td>...</td>\n",
       "      <td>...</td>\n",
       "      <td>...</td>\n",
       "      <td>...</td>\n",
       "      <td>...</td>\n",
       "      <td>...</td>\n",
       "      <td>...</td>\n",
       "    </tr>\n",
       "    <tr>\n",
       "      <th>859</th>\n",
       "      <td>860</td>\n",
       "      <td>0</td>\n",
       "      <td>3</td>\n",
       "      <td>Razi, Mr. Raihed</td>\n",
       "      <td>male</td>\n",
       "      <td>NaN</td>\n",
       "      <td>0</td>\n",
       "      <td>0</td>\n",
       "      <td>2629</td>\n",
       "      <td>7.2292</td>\n",
       "      <td>NaN</td>\n",
       "      <td>C</td>\n",
       "    </tr>\n",
       "    <tr>\n",
       "      <th>863</th>\n",
       "      <td>864</td>\n",
       "      <td>0</td>\n",
       "      <td>3</td>\n",
       "      <td>Sage, Miss. Dorothy Edith \"Dolly\"</td>\n",
       "      <td>female</td>\n",
       "      <td>NaN</td>\n",
       "      <td>8</td>\n",
       "      <td>2</td>\n",
       "      <td>CA. 2343</td>\n",
       "      <td>69.5500</td>\n",
       "      <td>NaN</td>\n",
       "      <td>S</td>\n",
       "    </tr>\n",
       "    <tr>\n",
       "      <th>868</th>\n",
       "      <td>869</td>\n",
       "      <td>0</td>\n",
       "      <td>3</td>\n",
       "      <td>van Melkebeke, Mr. Philemon</td>\n",
       "      <td>male</td>\n",
       "      <td>NaN</td>\n",
       "      <td>0</td>\n",
       "      <td>0</td>\n",
       "      <td>345777</td>\n",
       "      <td>9.5000</td>\n",
       "      <td>NaN</td>\n",
       "      <td>S</td>\n",
       "    </tr>\n",
       "    <tr>\n",
       "      <th>878</th>\n",
       "      <td>879</td>\n",
       "      <td>0</td>\n",
       "      <td>3</td>\n",
       "      <td>Laleff, Mr. Kristo</td>\n",
       "      <td>male</td>\n",
       "      <td>NaN</td>\n",
       "      <td>0</td>\n",
       "      <td>0</td>\n",
       "      <td>349217</td>\n",
       "      <td>7.8958</td>\n",
       "      <td>NaN</td>\n",
       "      <td>S</td>\n",
       "    </tr>\n",
       "    <tr>\n",
       "      <th>888</th>\n",
       "      <td>889</td>\n",
       "      <td>0</td>\n",
       "      <td>3</td>\n",
       "      <td>Johnston, Miss. Catherine Helen \"Carrie\"</td>\n",
       "      <td>female</td>\n",
       "      <td>NaN</td>\n",
       "      <td>1</td>\n",
       "      <td>2</td>\n",
       "      <td>W./C. 6607</td>\n",
       "      <td>23.4500</td>\n",
       "      <td>NaN</td>\n",
       "      <td>S</td>\n",
       "    </tr>\n",
       "  </tbody>\n",
       "</table>\n",
       "<p>177 rows × 12 columns</p>\n",
       "</div>"
      ],
      "text/plain": [
       "     PassengerId  Survived  Pclass                                      Name  \\\n",
       "5              6         0       3                          Moran, Mr. James   \n",
       "17            18         1       2              Williams, Mr. Charles Eugene   \n",
       "19            20         1       3                   Masselmani, Mrs. Fatima   \n",
       "26            27         0       3                   Emir, Mr. Farred Chehab   \n",
       "28            29         1       3             O'Dwyer, Miss. Ellen \"Nellie\"   \n",
       "..           ...       ...     ...                                       ...   \n",
       "859          860         0       3                          Razi, Mr. Raihed   \n",
       "863          864         0       3         Sage, Miss. Dorothy Edith \"Dolly\"   \n",
       "868          869         0       3               van Melkebeke, Mr. Philemon   \n",
       "878          879         0       3                        Laleff, Mr. Kristo   \n",
       "888          889         0       3  Johnston, Miss. Catherine Helen \"Carrie\"   \n",
       "\n",
       "        Sex  Age  SibSp  Parch      Ticket     Fare Cabin Embarked  \n",
       "5      male  NaN      0      0      330877   8.4583   NaN        Q  \n",
       "17     male  NaN      0      0      244373  13.0000   NaN        S  \n",
       "19   female  NaN      0      0        2649   7.2250   NaN        C  \n",
       "26     male  NaN      0      0        2631   7.2250   NaN        C  \n",
       "28   female  NaN      0      0      330959   7.8792   NaN        Q  \n",
       "..      ...  ...    ...    ...         ...      ...   ...      ...  \n",
       "859    male  NaN      0      0        2629   7.2292   NaN        C  \n",
       "863  female  NaN      8      2    CA. 2343  69.5500   NaN        S  \n",
       "868    male  NaN      0      0      345777   9.5000   NaN        S  \n",
       "878    male  NaN      0      0      349217   7.8958   NaN        S  \n",
       "888  female  NaN      1      2  W./C. 6607  23.4500   NaN        S  \n",
       "\n",
       "[177 rows x 12 columns]"
      ]
     },
     "execution_count": 3,
     "metadata": {},
     "output_type": "execute_result"
    }
   ],
   "source": [
    "age_null=pd.isnull(titanic_df[\"Age\"]) #pick up the lines where the Age is NaN\n",
    "titanic_df[age_null] #show the lines where Age is null"
   ]
  },
  {
   "cell_type": "code",
   "execution_count": 4,
   "id": "7930b897",
   "metadata": {},
   "outputs": [
    {
     "name": "stdout",
     "output_type": "stream",
     "text": [
      "177\n",
      "0.19865319865319866\n"
     ]
    }
   ],
   "source": [
    "count_row=titanic_df[age_null].shape[0] #count how many rows there for Age is null\n",
    "print(count_row) #show the number of rows that missing Age information\n",
    "print(177/891)"
   ]
  },
  {
   "cell_type": "code",
   "execution_count": 5,
   "id": "4c7f835b",
   "metadata": {},
   "outputs": [],
   "source": [
    "#There are 177 missing values, the percentage of missing values in the whole dataset is 177/891=19.9%"
   ]
  },
  {
   "cell_type": "code",
   "execution_count": 6,
   "id": "19974c88",
   "metadata": {},
   "outputs": [
    {
     "data": {
      "text/html": [
       "<div>\n",
       "<style scoped>\n",
       "    .dataframe tbody tr th:only-of-type {\n",
       "        vertical-align: middle;\n",
       "    }\n",
       "\n",
       "    .dataframe tbody tr th {\n",
       "        vertical-align: top;\n",
       "    }\n",
       "\n",
       "    .dataframe thead th {\n",
       "        text-align: right;\n",
       "    }\n",
       "</style>\n",
       "<table border=\"1\" class=\"dataframe\">\n",
       "  <thead>\n",
       "    <tr style=\"text-align: right;\">\n",
       "      <th></th>\n",
       "      <th>PassengerId</th>\n",
       "      <th>Survived</th>\n",
       "      <th>Pclass</th>\n",
       "      <th>Name</th>\n",
       "      <th>Sex</th>\n",
       "      <th>Age</th>\n",
       "      <th>SibSp</th>\n",
       "      <th>Parch</th>\n",
       "      <th>Ticket</th>\n",
       "      <th>Fare</th>\n",
       "      <th>Cabin</th>\n",
       "      <th>Embarked</th>\n",
       "    </tr>\n",
       "  </thead>\n",
       "  <tbody>\n",
       "    <tr>\n",
       "      <th>0</th>\n",
       "      <td>1</td>\n",
       "      <td>0</td>\n",
       "      <td>3</td>\n",
       "      <td>Braund, Mr. Owen Harris</td>\n",
       "      <td>male</td>\n",
       "      <td>22.0</td>\n",
       "      <td>1</td>\n",
       "      <td>0</td>\n",
       "      <td>A/5 21171</td>\n",
       "      <td>7.2500</td>\n",
       "      <td>NaN</td>\n",
       "      <td>S</td>\n",
       "    </tr>\n",
       "    <tr>\n",
       "      <th>1</th>\n",
       "      <td>2</td>\n",
       "      <td>1</td>\n",
       "      <td>1</td>\n",
       "      <td>Cumings, Mrs. John Bradley (Florence Briggs Th...</td>\n",
       "      <td>female</td>\n",
       "      <td>38.0</td>\n",
       "      <td>1</td>\n",
       "      <td>0</td>\n",
       "      <td>PC 17599</td>\n",
       "      <td>71.2833</td>\n",
       "      <td>C85</td>\n",
       "      <td>C</td>\n",
       "    </tr>\n",
       "    <tr>\n",
       "      <th>2</th>\n",
       "      <td>3</td>\n",
       "      <td>1</td>\n",
       "      <td>3</td>\n",
       "      <td>Heikkinen, Miss. Laina</td>\n",
       "      <td>female</td>\n",
       "      <td>26.0</td>\n",
       "      <td>0</td>\n",
       "      <td>0</td>\n",
       "      <td>STON/O2. 3101282</td>\n",
       "      <td>7.9250</td>\n",
       "      <td>NaN</td>\n",
       "      <td>S</td>\n",
       "    </tr>\n",
       "    <tr>\n",
       "      <th>3</th>\n",
       "      <td>4</td>\n",
       "      <td>1</td>\n",
       "      <td>1</td>\n",
       "      <td>Futrelle, Mrs. Jacques Heath (Lily May Peel)</td>\n",
       "      <td>female</td>\n",
       "      <td>35.0</td>\n",
       "      <td>1</td>\n",
       "      <td>0</td>\n",
       "      <td>113803</td>\n",
       "      <td>53.1000</td>\n",
       "      <td>C123</td>\n",
       "      <td>S</td>\n",
       "    </tr>\n",
       "    <tr>\n",
       "      <th>4</th>\n",
       "      <td>5</td>\n",
       "      <td>0</td>\n",
       "      <td>3</td>\n",
       "      <td>Allen, Mr. William Henry</td>\n",
       "      <td>male</td>\n",
       "      <td>35.0</td>\n",
       "      <td>0</td>\n",
       "      <td>0</td>\n",
       "      <td>373450</td>\n",
       "      <td>8.0500</td>\n",
       "      <td>NaN</td>\n",
       "      <td>S</td>\n",
       "    </tr>\n",
       "    <tr>\n",
       "      <th>...</th>\n",
       "      <td>...</td>\n",
       "      <td>...</td>\n",
       "      <td>...</td>\n",
       "      <td>...</td>\n",
       "      <td>...</td>\n",
       "      <td>...</td>\n",
       "      <td>...</td>\n",
       "      <td>...</td>\n",
       "      <td>...</td>\n",
       "      <td>...</td>\n",
       "      <td>...</td>\n",
       "      <td>...</td>\n",
       "    </tr>\n",
       "    <tr>\n",
       "      <th>709</th>\n",
       "      <td>886</td>\n",
       "      <td>0</td>\n",
       "      <td>3</td>\n",
       "      <td>Rice, Mrs. William (Margaret Norton)</td>\n",
       "      <td>female</td>\n",
       "      <td>39.0</td>\n",
       "      <td>0</td>\n",
       "      <td>5</td>\n",
       "      <td>382652</td>\n",
       "      <td>29.1250</td>\n",
       "      <td>NaN</td>\n",
       "      <td>Q</td>\n",
       "    </tr>\n",
       "    <tr>\n",
       "      <th>710</th>\n",
       "      <td>887</td>\n",
       "      <td>0</td>\n",
       "      <td>2</td>\n",
       "      <td>Montvila, Rev. Juozas</td>\n",
       "      <td>male</td>\n",
       "      <td>27.0</td>\n",
       "      <td>0</td>\n",
       "      <td>0</td>\n",
       "      <td>211536</td>\n",
       "      <td>13.0000</td>\n",
       "      <td>NaN</td>\n",
       "      <td>S</td>\n",
       "    </tr>\n",
       "    <tr>\n",
       "      <th>711</th>\n",
       "      <td>888</td>\n",
       "      <td>1</td>\n",
       "      <td>1</td>\n",
       "      <td>Graham, Miss. Margaret Edith</td>\n",
       "      <td>female</td>\n",
       "      <td>19.0</td>\n",
       "      <td>0</td>\n",
       "      <td>0</td>\n",
       "      <td>112053</td>\n",
       "      <td>30.0000</td>\n",
       "      <td>B42</td>\n",
       "      <td>S</td>\n",
       "    </tr>\n",
       "    <tr>\n",
       "      <th>712</th>\n",
       "      <td>890</td>\n",
       "      <td>1</td>\n",
       "      <td>1</td>\n",
       "      <td>Behr, Mr. Karl Howell</td>\n",
       "      <td>male</td>\n",
       "      <td>26.0</td>\n",
       "      <td>0</td>\n",
       "      <td>0</td>\n",
       "      <td>111369</td>\n",
       "      <td>30.0000</td>\n",
       "      <td>C148</td>\n",
       "      <td>C</td>\n",
       "    </tr>\n",
       "    <tr>\n",
       "      <th>713</th>\n",
       "      <td>891</td>\n",
       "      <td>0</td>\n",
       "      <td>3</td>\n",
       "      <td>Dooley, Mr. Patrick</td>\n",
       "      <td>male</td>\n",
       "      <td>32.0</td>\n",
       "      <td>0</td>\n",
       "      <td>0</td>\n",
       "      <td>370376</td>\n",
       "      <td>7.7500</td>\n",
       "      <td>NaN</td>\n",
       "      <td>Q</td>\n",
       "    </tr>\n",
       "  </tbody>\n",
       "</table>\n",
       "<p>714 rows × 12 columns</p>\n",
       "</div>"
      ],
      "text/plain": [
       "     PassengerId  Survived  Pclass  \\\n",
       "0              1         0       3   \n",
       "1              2         1       1   \n",
       "2              3         1       3   \n",
       "3              4         1       1   \n",
       "4              5         0       3   \n",
       "..           ...       ...     ...   \n",
       "709          886         0       3   \n",
       "710          887         0       2   \n",
       "711          888         1       1   \n",
       "712          890         1       1   \n",
       "713          891         0       3   \n",
       "\n",
       "                                                  Name     Sex   Age  SibSp  \\\n",
       "0                              Braund, Mr. Owen Harris    male  22.0      1   \n",
       "1    Cumings, Mrs. John Bradley (Florence Briggs Th...  female  38.0      1   \n",
       "2                               Heikkinen, Miss. Laina  female  26.0      0   \n",
       "3         Futrelle, Mrs. Jacques Heath (Lily May Peel)  female  35.0      1   \n",
       "4                             Allen, Mr. William Henry    male  35.0      0   \n",
       "..                                                 ...     ...   ...    ...   \n",
       "709               Rice, Mrs. William (Margaret Norton)  female  39.0      0   \n",
       "710                              Montvila, Rev. Juozas    male  27.0      0   \n",
       "711                       Graham, Miss. Margaret Edith  female  19.0      0   \n",
       "712                              Behr, Mr. Karl Howell    male  26.0      0   \n",
       "713                                Dooley, Mr. Patrick    male  32.0      0   \n",
       "\n",
       "     Parch            Ticket     Fare Cabin Embarked  \n",
       "0        0         A/5 21171   7.2500   NaN        S  \n",
       "1        0          PC 17599  71.2833   C85        C  \n",
       "2        0  STON/O2. 3101282   7.9250   NaN        S  \n",
       "3        0            113803  53.1000  C123        S  \n",
       "4        0            373450   8.0500   NaN        S  \n",
       "..     ...               ...      ...   ...      ...  \n",
       "709      5            382652  29.1250   NaN        Q  \n",
       "710      0            211536  13.0000   NaN        S  \n",
       "711      0            112053  30.0000   B42        S  \n",
       "712      0            111369  30.0000  C148        C  \n",
       "713      0            370376   7.7500   NaN        Q  \n",
       "\n",
       "[714 rows x 12 columns]"
      ]
     },
     "execution_count": 6,
     "metadata": {},
     "output_type": "execute_result"
    }
   ],
   "source": [
    "titanic_df=titanic_df.dropna(subset=['Age']) #drop all the passengers from the dataset who miss the age information\n",
    "titanic_df=titanic_df.reset_index(drop=True) #reorder the index of each row\n",
    "titanic_df"
   ]
  },
  {
   "cell_type": "code",
   "execution_count": 7,
   "id": "376ca772",
   "metadata": {},
   "outputs": [
    {
     "data": {
      "text/html": [
       "<div>\n",
       "<style scoped>\n",
       "    .dataframe tbody tr th:only-of-type {\n",
       "        vertical-align: middle;\n",
       "    }\n",
       "\n",
       "    .dataframe tbody tr th {\n",
       "        vertical-align: top;\n",
       "    }\n",
       "\n",
       "    .dataframe thead th {\n",
       "        text-align: right;\n",
       "    }\n",
       "</style>\n",
       "<table border=\"1\" class=\"dataframe\">\n",
       "  <thead>\n",
       "    <tr style=\"text-align: right;\">\n",
       "      <th></th>\n",
       "      <th>PassengerId</th>\n",
       "      <th>Survived</th>\n",
       "      <th>Pclass</th>\n",
       "      <th>Name</th>\n",
       "      <th>Sex</th>\n",
       "      <th>Age</th>\n",
       "      <th>SibSp</th>\n",
       "      <th>Parch</th>\n",
       "      <th>Ticket</th>\n",
       "      <th>Fare</th>\n",
       "      <th>Cabin</th>\n",
       "      <th>Embarked</th>\n",
       "      <th>NotAlone</th>\n",
       "    </tr>\n",
       "  </thead>\n",
       "  <tbody>\n",
       "    <tr>\n",
       "      <th>0</th>\n",
       "      <td>1</td>\n",
       "      <td>0</td>\n",
       "      <td>3</td>\n",
       "      <td>Braund, Mr. Owen Harris</td>\n",
       "      <td>male</td>\n",
       "      <td>22.0</td>\n",
       "      <td>1</td>\n",
       "      <td>0</td>\n",
       "      <td>A/5 21171</td>\n",
       "      <td>7.2500</td>\n",
       "      <td>NaN</td>\n",
       "      <td>S</td>\n",
       "      <td>1</td>\n",
       "    </tr>\n",
       "    <tr>\n",
       "      <th>1</th>\n",
       "      <td>2</td>\n",
       "      <td>1</td>\n",
       "      <td>1</td>\n",
       "      <td>Cumings, Mrs. John Bradley (Florence Briggs Th...</td>\n",
       "      <td>female</td>\n",
       "      <td>38.0</td>\n",
       "      <td>1</td>\n",
       "      <td>0</td>\n",
       "      <td>PC 17599</td>\n",
       "      <td>71.2833</td>\n",
       "      <td>C85</td>\n",
       "      <td>C</td>\n",
       "      <td>1</td>\n",
       "    </tr>\n",
       "    <tr>\n",
       "      <th>2</th>\n",
       "      <td>3</td>\n",
       "      <td>1</td>\n",
       "      <td>3</td>\n",
       "      <td>Heikkinen, Miss. Laina</td>\n",
       "      <td>female</td>\n",
       "      <td>26.0</td>\n",
       "      <td>0</td>\n",
       "      <td>0</td>\n",
       "      <td>STON/O2. 3101282</td>\n",
       "      <td>7.9250</td>\n",
       "      <td>NaN</td>\n",
       "      <td>S</td>\n",
       "      <td>0</td>\n",
       "    </tr>\n",
       "    <tr>\n",
       "      <th>3</th>\n",
       "      <td>4</td>\n",
       "      <td>1</td>\n",
       "      <td>1</td>\n",
       "      <td>Futrelle, Mrs. Jacques Heath (Lily May Peel)</td>\n",
       "      <td>female</td>\n",
       "      <td>35.0</td>\n",
       "      <td>1</td>\n",
       "      <td>0</td>\n",
       "      <td>113803</td>\n",
       "      <td>53.1000</td>\n",
       "      <td>C123</td>\n",
       "      <td>S</td>\n",
       "      <td>1</td>\n",
       "    </tr>\n",
       "    <tr>\n",
       "      <th>4</th>\n",
       "      <td>5</td>\n",
       "      <td>0</td>\n",
       "      <td>3</td>\n",
       "      <td>Allen, Mr. William Henry</td>\n",
       "      <td>male</td>\n",
       "      <td>35.0</td>\n",
       "      <td>0</td>\n",
       "      <td>0</td>\n",
       "      <td>373450</td>\n",
       "      <td>8.0500</td>\n",
       "      <td>NaN</td>\n",
       "      <td>S</td>\n",
       "      <td>0</td>\n",
       "    </tr>\n",
       "    <tr>\n",
       "      <th>...</th>\n",
       "      <td>...</td>\n",
       "      <td>...</td>\n",
       "      <td>...</td>\n",
       "      <td>...</td>\n",
       "      <td>...</td>\n",
       "      <td>...</td>\n",
       "      <td>...</td>\n",
       "      <td>...</td>\n",
       "      <td>...</td>\n",
       "      <td>...</td>\n",
       "      <td>...</td>\n",
       "      <td>...</td>\n",
       "      <td>...</td>\n",
       "    </tr>\n",
       "    <tr>\n",
       "      <th>709</th>\n",
       "      <td>886</td>\n",
       "      <td>0</td>\n",
       "      <td>3</td>\n",
       "      <td>Rice, Mrs. William (Margaret Norton)</td>\n",
       "      <td>female</td>\n",
       "      <td>39.0</td>\n",
       "      <td>0</td>\n",
       "      <td>5</td>\n",
       "      <td>382652</td>\n",
       "      <td>29.1250</td>\n",
       "      <td>NaN</td>\n",
       "      <td>Q</td>\n",
       "      <td>1</td>\n",
       "    </tr>\n",
       "    <tr>\n",
       "      <th>710</th>\n",
       "      <td>887</td>\n",
       "      <td>0</td>\n",
       "      <td>2</td>\n",
       "      <td>Montvila, Rev. Juozas</td>\n",
       "      <td>male</td>\n",
       "      <td>27.0</td>\n",
       "      <td>0</td>\n",
       "      <td>0</td>\n",
       "      <td>211536</td>\n",
       "      <td>13.0000</td>\n",
       "      <td>NaN</td>\n",
       "      <td>S</td>\n",
       "      <td>0</td>\n",
       "    </tr>\n",
       "    <tr>\n",
       "      <th>711</th>\n",
       "      <td>888</td>\n",
       "      <td>1</td>\n",
       "      <td>1</td>\n",
       "      <td>Graham, Miss. Margaret Edith</td>\n",
       "      <td>female</td>\n",
       "      <td>19.0</td>\n",
       "      <td>0</td>\n",
       "      <td>0</td>\n",
       "      <td>112053</td>\n",
       "      <td>30.0000</td>\n",
       "      <td>B42</td>\n",
       "      <td>S</td>\n",
       "      <td>0</td>\n",
       "    </tr>\n",
       "    <tr>\n",
       "      <th>712</th>\n",
       "      <td>890</td>\n",
       "      <td>1</td>\n",
       "      <td>1</td>\n",
       "      <td>Behr, Mr. Karl Howell</td>\n",
       "      <td>male</td>\n",
       "      <td>26.0</td>\n",
       "      <td>0</td>\n",
       "      <td>0</td>\n",
       "      <td>111369</td>\n",
       "      <td>30.0000</td>\n",
       "      <td>C148</td>\n",
       "      <td>C</td>\n",
       "      <td>0</td>\n",
       "    </tr>\n",
       "    <tr>\n",
       "      <th>713</th>\n",
       "      <td>891</td>\n",
       "      <td>0</td>\n",
       "      <td>3</td>\n",
       "      <td>Dooley, Mr. Patrick</td>\n",
       "      <td>male</td>\n",
       "      <td>32.0</td>\n",
       "      <td>0</td>\n",
       "      <td>0</td>\n",
       "      <td>370376</td>\n",
       "      <td>7.7500</td>\n",
       "      <td>NaN</td>\n",
       "      <td>Q</td>\n",
       "      <td>0</td>\n",
       "    </tr>\n",
       "  </tbody>\n",
       "</table>\n",
       "<p>714 rows × 13 columns</p>\n",
       "</div>"
      ],
      "text/plain": [
       "     PassengerId  Survived  Pclass  \\\n",
       "0              1         0       3   \n",
       "1              2         1       1   \n",
       "2              3         1       3   \n",
       "3              4         1       1   \n",
       "4              5         0       3   \n",
       "..           ...       ...     ...   \n",
       "709          886         0       3   \n",
       "710          887         0       2   \n",
       "711          888         1       1   \n",
       "712          890         1       1   \n",
       "713          891         0       3   \n",
       "\n",
       "                                                  Name     Sex   Age  SibSp  \\\n",
       "0                              Braund, Mr. Owen Harris    male  22.0      1   \n",
       "1    Cumings, Mrs. John Bradley (Florence Briggs Th...  female  38.0      1   \n",
       "2                               Heikkinen, Miss. Laina  female  26.0      0   \n",
       "3         Futrelle, Mrs. Jacques Heath (Lily May Peel)  female  35.0      1   \n",
       "4                             Allen, Mr. William Henry    male  35.0      0   \n",
       "..                                                 ...     ...   ...    ...   \n",
       "709               Rice, Mrs. William (Margaret Norton)  female  39.0      0   \n",
       "710                              Montvila, Rev. Juozas    male  27.0      0   \n",
       "711                       Graham, Miss. Margaret Edith  female  19.0      0   \n",
       "712                              Behr, Mr. Karl Howell    male  26.0      0   \n",
       "713                                Dooley, Mr. Patrick    male  32.0      0   \n",
       "\n",
       "     Parch            Ticket     Fare Cabin Embarked  NotAlone  \n",
       "0        0         A/5 21171   7.2500   NaN        S         1  \n",
       "1        0          PC 17599  71.2833   C85        C         1  \n",
       "2        0  STON/O2. 3101282   7.9250   NaN        S         0  \n",
       "3        0            113803  53.1000  C123        S         1  \n",
       "4        0            373450   8.0500   NaN        S         0  \n",
       "..     ...               ...      ...   ...      ...       ...  \n",
       "709      5            382652  29.1250   NaN        Q         1  \n",
       "710      0            211536  13.0000   NaN        S         0  \n",
       "711      0            112053  30.0000   B42        S         0  \n",
       "712      0            111369  30.0000  C148        C         0  \n",
       "713      0            370376   7.7500   NaN        Q         0  \n",
       "\n",
       "[714 rows x 13 columns]"
      ]
     },
     "execution_count": 7,
     "metadata": {},
     "output_type": "execute_result"
    }
   ],
   "source": [
    "#Q2\n",
    "import numpy as np #import numpy\n",
    "titanic_df['NotAlone']=np.where((titanic_df['SibSp']==0) & (titanic_df['Parch']==0), 0, 1) #use numpy where to create the NotAlone column with value 0 and 1 in certain conditions\n",
    "titanic_df #show the titanic dataset"
   ]
  },
  {
   "cell_type": "code",
   "execution_count": 8,
   "id": "ac98aabc",
   "metadata": {},
   "outputs": [
    {
     "data": {
      "text/plain": [
       "186"
      ]
     },
     "execution_count": 8,
     "metadata": {},
     "output_type": "execute_result"
    }
   ],
   "source": [
    "#Q3\n",
    "titanic_df_passenger_class_1=titanic_df.loc[titanic_df['Pclass']==1]# put the rows with Class 1 to the new dataframe \n",
    "titanic_df_passenger_class_1 #shows the dataframe\n",
    "titanic_df_passenger_class_1.shape[0] #count the number of observations in this dataset"
   ]
  },
  {
   "cell_type": "code",
   "execution_count": 9,
   "id": "9df8c0d1",
   "metadata": {},
   "outputs": [
    {
     "data": {
      "text/plain": [
       "173"
      ]
     },
     "execution_count": 9,
     "metadata": {},
     "output_type": "execute_result"
    }
   ],
   "source": [
    "titanic_df_passenger_class_2=titanic_df.loc[titanic_df['Pclass']==2] # put the rows with Class 2 to the new dataframe \n",
    "titanic_df_passenger_class_2 # shows the dataframe \n",
    "titanic_df_passenger_class_2.shape[0] #count the number of observations in this dataset"
   ]
  },
  {
   "cell_type": "code",
   "execution_count": 10,
   "id": "7d8e0721",
   "metadata": {},
   "outputs": [
    {
     "data": {
      "text/plain": [
       "355"
      ]
     },
     "execution_count": 10,
     "metadata": {},
     "output_type": "execute_result"
    }
   ],
   "source": [
    "titanic_df_passenger_class_3=titanic_df.loc[titanic_df['Pclass']==3] # put the rows with Class 3 to the new dataframe \n",
    "titanic_df_passenger_class_3 #shows the dataframe\n",
    "titanic_df_passenger_class_3.shape[0] #count the number of observations in this dataset"
   ]
  },
  {
   "cell_type": "code",
   "execution_count": 11,
   "id": "27d145cf",
   "metadata": {},
   "outputs": [],
   "source": [
    "mean_age_c1=titanic_df_passenger_class_1['Age'].mean() #the mean of Age in class1\n",
    "median_age_c1=titanic_df_passenger_class_1['Age'].median() #the median of Age in class1\n",
    "mean_fare_c1=titanic_df_passenger_class_1['Fare'].mean() #the mean of fare in class1\n",
    "median_fare_c1=titanic_df_passenger_class_1['Fare'].median() #the median of Fare in class1\n",
    "\n",
    "mean_age_c2=titanic_df_passenger_class_2['Age'].mean() #the mean of Age in class2\n",
    "median_age_c2=titanic_df_passenger_class_2['Age'].median() #the median of Age in class2\n",
    "mean_fare_c2=titanic_df_passenger_class_2['Fare'].mean() #the mean of Fare in class2\n",
    "median_fare_c2=titanic_df_passenger_class_2['Fare'].median() #the median of Fare in class2\n",
    "\n",
    "mean_age_c3=titanic_df_passenger_class_3['Age'].mean() #the mean of Age in class3\n",
    "median_age_c3=titanic_df_passenger_class_3['Age'].mean() #the median of Age in class3\n",
    "mean_fare_c3=titanic_df_passenger_class_3['Fare'].mean() #the mean of Fare in class3\n",
    "median_fare_c3=titanic_df_passenger_class_3['Fare'].median() #the median of Fare in class3"
   ]
  },
  {
   "cell_type": "code",
   "execution_count": 12,
   "id": "da8cdac9",
   "metadata": {},
   "outputs": [
    {
     "name": "stdout",
     "output_type": "stream",
     "text": [
      "38.233440860215055 29.87763005780347 25.14061971830986\n"
     ]
    }
   ],
   "source": [
    "print(mean_age_c1,mean_age_c2,mean_age_c3)"
   ]
  },
  {
   "cell_type": "code",
   "execution_count": 13,
   "id": "7385b01b",
   "metadata": {},
   "outputs": [
    {
     "name": "stdout",
     "output_type": "stream",
     "text": [
      "37.0 29.0 25.14061971830986\n"
     ]
    }
   ],
   "source": [
    "print(median_age_c1,median_age_c2,median_age_c3)"
   ]
  },
  {
   "cell_type": "code",
   "execution_count": 14,
   "id": "f59d053f",
   "metadata": {},
   "outputs": [
    {
     "name": "stdout",
     "output_type": "stream",
     "text": [
      "87.96158225806447 21.47155606936416 13.229435211267623\n"
     ]
    }
   ],
   "source": [
    "print(mean_fare_c1,mean_fare_c2,mean_fare_c3)"
   ]
  },
  {
   "cell_type": "code",
   "execution_count": 15,
   "id": "9817922b",
   "metadata": {},
   "outputs": [
    {
     "name": "stdout",
     "output_type": "stream",
     "text": [
      "69.3 15.0458 8.05\n"
     ]
    }
   ],
   "source": [
    "print(median_fare_c1,median_fare_c2,median_fare_c3)"
   ]
  },
  {
   "cell_type": "code",
   "execution_count": 16,
   "id": "633a9e74",
   "metadata": {},
   "outputs": [],
   "source": [
    "# mean of Age in class1 is 38.233440860215055; mean of Age in class2 is 29.87763005780347; mean of Age in class3 is 25.14061971830986.\n",
    "# median of Age in class1 is 37.0; median of Age in class2 is 29.0; median of Age in class3 is 25.14061971830986\n",
    "# mean of Fare in class1 is 87.96158225806447; mean of Fare in class2 is 21.47155606936416; mean of Fare in class3 is 13.229435211267623\n",
    "# median of Fare in class1 is 69.3; median of Fare in class2 is 15.0458; median of Fare in class3 is 8.05\n",
    "#There are 186 obervations in the dataset titanic_df_passenger_class_1, 173 obsevations in the dataset titanic_df_passenger_class_2, and 355 observations in the dataset titanic_df_passenger_class_3. \n",
    "#passenger class 1 has the highest mean of Age, passenger class 3 has the lowest mean of Age.\n",
    "#passenger class 1 has the highest median of Age, passenger class 3 has the lowest median of class Age.\n",
    "#passenger class 1 has the highest mean of Fare, passenger class 3 has the lowest mean of class Fare.\n",
    "#passenger class 1 has the highest median of Fare, passenger class 3 has the lowest median of Fare."
   ]
  },
  {
   "cell_type": "code",
   "execution_count": 17,
   "id": "ff02bab9",
   "metadata": {},
   "outputs": [],
   "source": [
    "#Q4\n",
    "titanic_df_survived=titanic_df.loc[titanic_df['Survived']==1] #create the dataset that includes the passengers who survived\n",
    "titanic_df_not_survived=titanic_df.loc[titanic_df['Survived']==0] #create the dataset that includes the passengers who didn't survive"
   ]
  },
  {
   "cell_type": "code",
   "execution_count": 18,
   "id": "692ff61a",
   "metadata": {},
   "outputs": [
    {
     "data": {
      "text/plain": [
       "290"
      ]
     },
     "execution_count": 18,
     "metadata": {},
     "output_type": "execute_result"
    }
   ],
   "source": [
    "titanic_df_survived.shape[0] #count how many people survived(how many observations in the survived dataset)"
   ]
  },
  {
   "cell_type": "code",
   "execution_count": 19,
   "id": "7ccd11c8",
   "metadata": {},
   "outputs": [
    {
     "data": {
      "text/plain": [
       "424"
      ]
     },
     "execution_count": 19,
     "metadata": {},
     "output_type": "execute_result"
    }
   ],
   "source": [
    "titanic_df_not_survived.shape[0] #count how many people did not survive(how many observations in the did not survived dataset)"
   ]
  },
  {
   "cell_type": "code",
   "execution_count": 20,
   "id": "e460a29e",
   "metadata": {},
   "outputs": [],
   "source": [
    "# There are 290 people survived, 424 people did not survive."
   ]
  },
  {
   "cell_type": "code",
   "execution_count": 21,
   "id": "444fa1ea",
   "metadata": {},
   "outputs": [
    {
     "name": "stdout",
     "output_type": "stream",
     "text": [
      "122\n",
      "64\n",
      "83\n",
      "90\n",
      "85\n",
      "270\n"
     ]
    }
   ],
   "source": [
    "print(len(titanic_df_passenger_class_1[(titanic_df_passenger_class_1['Survived']==1)])) #count the people survived in class1\n",
    "print(len(titanic_df_passenger_class_1[titanic_df_passenger_class_1['Survived']==0])) #count the people did not survive in class1\n",
    "print(len(titanic_df_passenger_class_2[titanic_df_passenger_class_2['Survived']==1])) #count the people survived in class2\n",
    "print(len(titanic_df_passenger_class_2[titanic_df_passenger_class_2['Survived']==0])) #count the people did not survive in class2\n",
    "print(len(titanic_df_passenger_class_3[titanic_df_passenger_class_3['Survived']==1])) #count the people survived in class3\n",
    "print(len(titanic_df_passenger_class_3[titanic_df_passenger_class_3['Survived']==0])) #count the people did not survive in class3"
   ]
  },
  {
   "cell_type": "code",
   "execution_count": 22,
   "id": "5e6f16a9",
   "metadata": {},
   "outputs": [],
   "source": [
    "# There are 290 perople servived, 424 people did not survive.\n",
    "# In the passenger class 1, there are 122 people survived and 64 people died.\n",
    "# In the passenger class 2, there are 83 people survived and 90 people died.\n",
    "# In the passenger class 3, there are 85 people survived and 270 people died."
   ]
  },
  {
   "cell_type": "code",
   "execution_count": 23,
   "id": "da79169f",
   "metadata": {},
   "outputs": [],
   "source": [
    "#Q5\n",
    "#the function of variance\n",
    "def variance(dat):\n",
    "    mean=sum(dat)/len(dat)\n",
    "    dev=[(x-mean)**2 for x in dat]\n",
    "    var=sum(dev)/len(dat)\n",
    "    return var\n",
    "#the function of standard deviation\n",
    "def std_dev(dat):\n",
    "    import math\n",
    "    stdv=math.sqrt(variance(dat))\n",
    "    return stdv\n",
    "#the function of correlation\n",
    "def correlation(dat1, dat2):\n",
    "    import math\n",
    "    dat1_mean=sum(dat1)/len(dat1)\n",
    "    dat2_mean=sum(dat2)/len(dat2)\n",
    "    dat1_part=[x-dat1_mean for x in dat1]\n",
    "    dat2_part=[x-dat2_mean for x in dat2]\n",
    "    sum_part12 = sum([dat1_part[x]*dat2_part[x] for x in range(len(dat1_part))])\n",
    "    dat1_mean_sqr = sum([dat1_part[x]**2 for x in range(len(dat1_part))])\n",
    "    dat2_mean_sqr = sum([dat2_part[x]**2 for x in range(len(dat2_part))])\n",
    "    sum_sqrt = math.sqrt(dat1_mean_sqr*dat2_mean_sqr) \n",
    "    corr = sum_part12/sum_sqrt\n",
    "    return corr"
   ]
  },
  {
   "cell_type": "code",
   "execution_count": 24,
   "id": "528f7908",
   "metadata": {},
   "outputs": [
    {
     "name": "stdout",
     "output_type": "stream",
     "text": [
      "correlation between Survived and Age: -0.07722109457217737\n",
      "correlation between Survived and SibSp: -0.01735836047953392\n",
      "correlation between Survived and Parch: 0.09331700774224345\n",
      "correlation between Survived and Fare: 0.2681886168744772\n",
      "correlation between Survived and NotAlone: 0.19614042733716913\n",
      "correlation between Age and SibSp: -0.3082467589236574\n",
      "correlation between Age and Parch: -0.18911926263203518\n",
      "correlation between Age and Fare: 0.09606669176903881\n",
      "correlation between Age and NotAlone: -0.19827000378179802\n",
      "correlation between SibSp and Parch: 0.3838198640428351\n",
      "correlation between SibSp and Fare: 0.13832879455544905\n",
      "correlation between SibSp and NotAlone: 0.6298182440322461\n",
      "correlation between Parch and Fare: 0.20511888430378045\n",
      "correlation between Parch and NotAlone: 0.5775244139668505\n",
      "correlation between Fare and NotAlone: 0.2601363564406405\n"
     ]
    }
   ],
   "source": [
    "#Q6\n",
    "print('correlation between Survived and Age:',correlation(titanic_df['Survived'],titanic_df['Age'])) #correlation between Survived and Age\n",
    "print('correlation between Survived and SibSp:',correlation(titanic_df['Survived'],titanic_df['SibSp'])) #correlation between Survived and SibSp\n",
    "print('correlation between Survived and Parch:',correlation(titanic_df['Survived'],titanic_df['Parch'])) #correlation between Survived and Parch\n",
    "print('correlation between Survived and Fare:',correlation(titanic_df['Survived'],titanic_df['Fare'])) #correlation between Survived and Fare\n",
    "print('correlation between Survived and NotAlone:',correlation(titanic_df['Survived'],titanic_df['NotAlone'])) #correlation between Survived and NotAlone\n",
    "print('correlation between Age and SibSp:',correlation(titanic_df['Age'],titanic_df['SibSp'])) #correlation between Age and SibSp\n",
    "print('correlation between Age and Parch:',correlation(titanic_df['Age'],titanic_df['Parch'])) #correlation between Age and Parch\n",
    "print('correlation between Age and Fare:',correlation(titanic_df['Age'],titanic_df['Fare'])) #correlation between Age and Fare\n",
    "print('correlation between Age and NotAlone:',correlation(titanic_df['Age'],titanic_df['NotAlone'])) #correlation between Age and NotAlone\n",
    "print('correlation between SibSp and Parch:',correlation(titanic_df['SibSp'],titanic_df['Parch'])) #correlation between SibSp and Parch\n",
    "print('correlation between SibSp and Fare:',correlation(titanic_df['SibSp'],titanic_df['Fare'])) #correlation between SibSp and Fare\n",
    "print('correlation between SibSp and NotAlone:',correlation(titanic_df['SibSp'],titanic_df['NotAlone'])) #correlation between SibSp and NotAlone\n",
    "print('correlation between Parch and Fare:',correlation(titanic_df['Parch'],titanic_df['Fare'])) #correlation between Parch and Fare\n",
    "print('correlation between Parch and NotAlone:',correlation(titanic_df['Parch'],titanic_df['NotAlone'])) #correlation between Parch and NotAlone\n",
    "print('correlation between Fare and NotAlone:',correlation(titanic_df['Fare'],titanic_df['NotAlone'])) #correlation between Fare and NotAlone"
   ]
  },
  {
   "cell_type": "code",
   "execution_count": 28,
   "id": "ed54e06f",
   "metadata": {},
   "outputs": [
    {
     "ename": "SyntaxError",
     "evalue": "invalid syntax (3661974862.py, line 20)",
     "output_type": "error",
     "traceback": [
      "\u001b[0;36m  File \u001b[0;32m\"/var/folders/0y/1xswhtb9233dmfpnjsyf9zb00000gn/T/ipykernel_4339/3661974862.py\"\u001b[0;36m, line \u001b[0;32m20\u001b[0m\n\u001b[0;31m    [a, 1, f, g, h, i],\u001b[0m\n\u001b[0m                      ^\u001b[0m\n\u001b[0;31mSyntaxError\u001b[0m\u001b[0;31m:\u001b[0m invalid syntax\n"
     ]
    }
   ],
   "source": [
    "#set all value of correlations with variable name\n",
    "a=correlation(titanic_df['Survived'],titanic_df['Age'])\n",
    "b=correlation(titanic_df['Survived'],titanic_df['SibSp'])\n",
    "c=correlation(titanic_df['Survived'],titanic_df['Parch'])\n",
    "d=correlation(titanic_df['Survived'],titanic_df['Fare'])\n",
    "e=correlation(titanic_df['Survived'],titanic_df['NotAlone'])\n",
    "f=correlation(titanic_df['Age'],titanic_df['SibSp'])\n",
    "g=correlation(titanic_df['Age'],titanic_df['Parch'])\n",
    "h=correlation(titanic_df['Age'],titanic_df['Fare'])\n",
    "i=correlation(titanic_df['Age'],titanic_df['NotAlone'])\n",
    "j=correlation(titanic_df['SibSp'],titanic_df['Parch'])\n",
    "k=correlation(titanic_df['SibSp'],titanic_df['Fare'])\n",
    "l=correlation(titanic_df['SibSp'],titanic_df['NotAlone'])\n",
    "m=correlation(titanic_df['Parch'],titanic_df['Fare'])\n",
    "n=correlation(titanic_df['Parch'],titanic_df['NotAlone'])\n",
    "o=correlation(titanic_df['Fare'],titanic_df['NotAlone'])\n",
    "\n",
    "#create a dict collect the correlations between numerical variables\n",
    "cor_mdata = {\"Survived\":[1, a, b, c, d, e],\n",
    "                    [a, 1, f, g, h, i],\n",
    "                    [b, f, 1, j, k, l],\n",
    "                     [c, g, j, 1, m, n],\n",
    "                    [d, h, k, m, 1, o],\n",
    "                     [e, i, l, n, o,1] }\n",
    "#create the correlation matrix\n",
    "matrix = pd.DataFrame(cor_mdata, index=[\"Survived\", \"Age\", \"SibSp\", \"Parch\", \"Fare\", \"NotAlone\"], columns=[\"Survived\", \"Age\", \"SibSp\", \"Parch\", \"Fare\", \"NotAlone\"])\n",
    "matrix"
   ]
  },
  {
   "cell_type": "code",
   "execution_count": 26,
   "id": "1a41369e",
   "metadata": {},
   "outputs": [],
   "source": [
    "#There's no correlation value larger than 0.8; SibSp and NotAlone have the medium correlation(relative closely related value) 0.6298182440322461; other correlations are below 0.6, so that the remaining of them have weak correlations.\n",
    "#Survived and SibSp, Survived and Age, Age and SibSp, Age and Parch, and Age and Notalone have the negative correlation. Others have the positive correlation."
   ]
  },
  {
   "cell_type": "code",
   "execution_count": 27,
   "id": "0486ad68",
   "metadata": {},
   "outputs": [
    {
     "name": "stdout",
     "output_type": "stream",
     "text": [
      "14.516321150817317\n",
      "52.881858444051744\n"
     ]
    }
   ],
   "source": [
    "#Q7\n",
    "print(std_dev(titanic_df['Age'])) #the standard deviation for Age\n",
    "print(std_dev(titanic_df['Fare'])) #the standard deviation for Fare"
   ]
  },
  {
   "cell_type": "code",
   "execution_count": 28,
   "id": "8048ff88",
   "metadata": {},
   "outputs": [],
   "source": [
    "#The standard deviate for Age is 14.516321150817317.\n",
    "#The standard deviate for Fare is 52.881858444051744."
   ]
  },
  {
   "cell_type": "code",
   "execution_count": 29,
   "id": "4ca2d4cc",
   "metadata": {},
   "outputs": [
    {
     "name": "stdout",
     "output_type": "stream",
     "text": [
      "17.875\n",
      "0.42\n",
      "20.125\n",
      "28.0\n",
      "38.0\n",
      "80.0\n",
      "29.69911764705882\n",
      "25.325\n",
      "0.0\n",
      "8.05\n",
      "15.7417\n",
      "33.375\n",
      "512.3292\n",
      "34.69451400560218\n"
     ]
    }
   ],
   "source": [
    "#the interquartile range for the Age\n",
    "q3_a, q1_a = np.percentile(titanic_df['Age'], [75 ,25])\n",
    "q2_a, q0_a = np.percentile(titanic_df['Age'], [50 ,0])\n",
    "q4_a, q3_a = np.percentile(titanic_df['Age'], [100 ,75])\n",
    "iqr_age = q3_a - q1_a\n",
    "print(iqr_age)\n",
    "print(q0_a)\n",
    "print(q1_a)\n",
    "print(q2_a)\n",
    "print(q3_a)\n",
    "print(q4_a)\n",
    "print(titanic_df['Age'].mean())\n",
    "#the interquartile range for the Fare\n",
    "q3_f, q1_f = np.percentile(titanic_df['Fare'], [75 ,25])\n",
    "q2_f, q0_f = np.percentile(titanic_df['Fare'], [50 ,0])\n",
    "q4_f, q3_f = np.percentile(titanic_df['Fare'], [100 ,75])\n",
    "iqr_fare = q3_f - q1_f\n",
    "print(iqr_fare)\n",
    "print(q0_f)\n",
    "print(q1_f)\n",
    "print(q2_f)\n",
    "print(q3_f)\n",
    "print(q4_f)\n",
    "print(titanic_df['Fare'].mean())"
   ]
  },
  {
   "cell_type": "code",
   "execution_count": 30,
   "id": "92df84b3",
   "metadata": {},
   "outputs": [],
   "source": [
    "#The interquartile range for the Age is 17.875, with q0=0.42, q1=20.125, q2=28, q3=38, q4=80.  \n",
    "#According to the interquartile points, the shape of the data of Age is skew right, and the majority of observations below the mean 29.69911764705882.\n",
    "#The interquartile range for the Fare is 25.325, with q0=0, q1=8.05, q2=15.7417, q3=33.375, q4=512.3292. \n",
    "#According to the interquartile points, the shape of the data of Fare is skew right, and the majority of observations below the mean 34.69451400560218."
   ]
  },
  {
   "cell_type": "code",
   "execution_count": 31,
   "id": "8f8c7523",
   "metadata": {},
   "outputs": [],
   "source": [
    "#Q8"
   ]
  },
  {
   "cell_type": "code",
   "execution_count": 32,
   "id": "1e0d2da2",
   "metadata": {},
   "outputs": [
    {
     "name": "stdout",
     "output_type": "stream",
     "text": [
      "0.9647058823529412\n",
      "0.918918918918919\n",
      "0.46078431372549017\n",
      "0.39603960396039606\n",
      "0.15151515151515152\n",
      "0.15019762845849802\n"
     ]
    }
   ],
   "source": [
    "#i.\n",
    "print(titanic_df[(titanic_df['Survived']==1) & (titanic_df['Sex']==\"female\") & (titanic_df['Pclass']==1)].shape[0]/titanic_df[(titanic_df['Sex']==\"female\") & (titanic_df['Pclass']==1)].shape[0])\n",
    "print(titanic_df[(titanic_df['Survived']==1) & (titanic_df['Sex']==\"female\") & (titanic_df['Pclass']==2)].shape[0]/titanic_df[(titanic_df['Sex']==\"female\") & (titanic_df['Pclass']==2)].shape[0])\n",
    "print(titanic_df[(titanic_df['Survived']==1) & (titanic_df['Sex']==\"female\") & (titanic_df['Pclass']==3)].shape[0]/titanic_df[(titanic_df['Sex']==\"female\") & (titanic_df['Pclass']==3)].shape[0])\n",
    "print(titanic_df[(titanic_df['Survived']==1) & (titanic_df['Sex']==\"male\") & (titanic_df['Pclass']==1)].shape[0]/titanic_df[(titanic_df['Sex']==\"male\") & (titanic_df['Pclass']==1)].shape[0])\n",
    "print(titanic_df[(titanic_df['Survived']==1) & (titanic_df['Sex']==\"male\") & (titanic_df['Pclass']==2)].shape[0]/titanic_df[(titanic_df['Sex']==\"male\") & (titanic_df['Pclass']==2)].shape[0])\n",
    "print(titanic_df[(titanic_df['Survived']==1) & (titanic_df['Sex']==\"male\") & (titanic_df['Pclass']==3)].shape[0]/titanic_df[(titanic_df['Sex']==\"male\") & (titanic_df['Pclass']==3)].shape[0])"
   ]
  },
  {
   "cell_type": "code",
   "execution_count": 33,
   "id": "3d6e00aa",
   "metadata": {},
   "outputs": [],
   "source": [
    "# P(Survived = true | Gender = female, Class = 1)=0.9647058823529412\n",
    "# P(Survived = true | Gender = female, Class = 2)=0.918918918918919\n",
    "# P(Survived = true | Gender = female, Class = 3)=0.46078431372549017\n",
    "# P(Survived = true | Gender = male, Class = 1)=0.39603960396039606\n",
    "# P(Survived = true | Gender = male, Class = 2)=0.15151515151515152\n",
    "# P(Survived = true | Gender = male, Class = 3)=0.15019762845849802\n",
    "# The survival rate of female is higher than that of male. More passengers in the higher class survived than those in the lower class. \n",
    "# The female in the class 1 survived the most, and the male in the class 3 survived the least."
   ]
  },
  {
   "cell_type": "code",
   "execution_count": 34,
   "id": "f2925209",
   "metadata": {},
   "outputs": [
    {
     "name": "stdout",
     "output_type": "stream",
     "text": [
      "0.4318181818181818\n"
     ]
    }
   ],
   "source": [
    "#ii.\n",
    "print(titanic_df[(titanic_df['Survived']==1) & (titanic_df['Age']<=10) & (titanic_df['Pclass']==3)].shape[0]/titanic_df[(titanic_df['Age']<=10) & (titanic_df['Pclass']==3)].shape[0])#the survival rate for a child who is in third class is 10 years old or younger"
   ]
  },
  {
   "cell_type": "code",
   "execution_count": 35,
   "id": "85241913",
   "metadata": {},
   "outputs": [],
   "source": [
    "#The probability that a child who is in third class is 10 years old or younger survives is 0.4318181818181818."
   ]
  },
  {
   "cell_type": "code",
   "execution_count": 36,
   "id": "10e5a00e",
   "metadata": {},
   "outputs": [
    {
     "data": {
      "text/plain": [
       "Pclass\n",
       "1    87.961582\n",
       "2    21.471556\n",
       "3    13.229435\n",
       "Name: Fare, dtype: float64"
      ]
     },
     "execution_count": 36,
     "metadata": {},
     "output_type": "execute_result"
    }
   ],
   "source": [
    "#iii.\n",
    "fare_groupby_class=titanic_df['Fare'].groupby(titanic_df['Pclass']) #get fare grouped by class\n",
    "fare_groupby_class.mean() #calculate the mean of fare for each class group"
   ]
  },
  {
   "cell_type": "code",
   "execution_count": 37,
   "id": "d89c2e9f",
   "metadata": {},
   "outputs": [],
   "source": [
    "# E[X|Class=1]=87.961582\n",
    "# E[X|Class=2]=21.471556\n",
    "# E[X|Class=3]=13.229435\n",
    "# The expectation of fare in higher class are higher than that in the lower class."
   ]
  },
  {
   "cell_type": "code",
   "execution_count": 38,
   "id": "406d1f8e",
   "metadata": {},
   "outputs": [
    {
     "name": "stdout",
     "output_type": "stream",
     "text": [
      "{'Don', 'Rev', 'Ms', 'Miss', 'Col', 'Lady', 'the Countess', 'Dr', 'Major', 'Mme', 'Mlle', 'Mrs', 'Capt', 'Sir', 'Master', 'Jonkheer', 'Mr'}\n"
     ]
    },
    {
     "data": {
      "text/plain": [
       "17"
      ]
     },
     "execution_count": 38,
     "metadata": {},
     "output_type": "execute_result"
    }
   ],
   "source": [
    "#Q9\n",
    "#i.\n",
    "titles=[] #create an empty list called titles\n",
    "for i in range(len(titanic_df)): #create the loop situation\n",
    "    titles.append(titanic_df.loc[i,'Name'].split(', ')[1].split('.')[0]) #split each cell in the Name colume with comma and pick the second place to split again with dot, then pick the first place that splited by dot to add to the list titles \n",
    "titanic_df['Titles']=titles #add the list titles to the titanic_df dataset as a new column called Titles\n",
    "list_of_title=set(titanic_df['Titles']) #use set function to pick the distinct values in the column titles and store them to the list called list_of_title\n",
    "print(list_of_title) #print the list_of_title\n",
    "len(list_of_title) #calculate how many titles in the list"
   ]
  },
  {
   "cell_type": "code",
   "execution_count": 39,
   "id": "47c48147",
   "metadata": {},
   "outputs": [],
   "source": [
    "# The list of all titles of social status/nobility is {'Mr', 'Rev', 'Miss', 'Lady', 'Mrs', 'Major', 'Don', 'Col', 'Mlle', 'Capt', 'the Countess', 'Jonkheer', 'Master', 'Dr', 'Mme', 'Ms', 'Sir'}."
   ]
  },
  {
   "cell_type": "code",
   "execution_count": 40,
   "id": "42d62844",
   "metadata": {},
   "outputs": [
    {
     "name": "stdout",
     "output_type": "stream",
     "text": [
      "0.16834170854271358\n",
      "0.0\n",
      "0.7191780821917808\n",
      "1.0\n",
      "0.7870370370370371\n",
      "0.5\n",
      "0.0\n",
      "0.5\n",
      "1.0\n",
      "0.0\n",
      "1.0\n",
      "0.0\n",
      "0.5833333333333334\n",
      "0.5\n",
      "1.0\n",
      "1.0\n",
      "1.0\n"
     ]
    }
   ],
   "source": [
    "#ii.\n",
    "print(titanic_df[(titanic_df['Survived']==1) & (titanic_df['Titles']==\"Mr\")].shape[0]/titanic_df[(titanic_df['Titles']==\"Mr\")].shape[0]) #The survival rate for Mr\n",
    "print(titanic_df[(titanic_df['Survived']==1) & (titanic_df['Titles']==\"Rev\")].shape[0]/titanic_df[(titanic_df['Titles']==\"Rev\")].shape[0]) \n",
    "print(titanic_df[(titanic_df['Survived']==1) & (titanic_df['Titles']==\"Miss\")].shape[0]/titanic_df[(titanic_df['Titles']==\"Miss\")].shape[0])\n",
    "print(titanic_df[(titanic_df['Survived']==1) & (titanic_df['Titles']==\"Lady\")].shape[0]/titanic_df[(titanic_df['Titles']==\"Lady\")].shape[0])\n",
    "print(titanic_df[(titanic_df['Survived']==1) & (titanic_df['Titles']==\"Mrs\")].shape[0]/titanic_df[(titanic_df['Titles']==\"Mrs\")].shape[0])\n",
    "print(titanic_df[(titanic_df['Survived']==1) & (titanic_df['Titles']==\"Major\")].shape[0]/titanic_df[(titanic_df['Titles']==\"Major\")].shape[0])\n",
    "print(titanic_df[(titanic_df['Survived']==1) & (titanic_df['Titles']==\"Don\")].shape[0]/titanic_df[(titanic_df['Titles']==\"Don\")].shape[0])\n",
    "print(titanic_df[(titanic_df['Survived']==1) & (titanic_df['Titles']==\"Col\")].shape[0]/titanic_df[(titanic_df['Titles']==\"Col\")].shape[0])\n",
    "print(titanic_df[(titanic_df['Survived']==1) & (titanic_df['Titles']==\"Mlle\")].shape[0]/titanic_df[(titanic_df['Titles']==\"Mlle\")].shape[0])\n",
    "print(titanic_df[(titanic_df['Survived']==1) & (titanic_df['Titles']==\"Capt\")].shape[0]/titanic_df[(titanic_df['Titles']==\"Capt\")].shape[0])\n",
    "print(titanic_df[(titanic_df['Survived']==1) & (titanic_df['Titles']==\"the Countess\")].shape[0]/titanic_df[(titanic_df['Titles']==\"the Countess\")].shape[0])\n",
    "print(titanic_df[(titanic_df['Survived']==1) & (titanic_df['Titles']==\"Jonkheer\")].shape[0]/titanic_df[(titanic_df['Titles']==\"Jonkheer\")].shape[0])\n",
    "print(titanic_df[(titanic_df['Survived']==1) & (titanic_df['Titles']==\"Master\")].shape[0]/titanic_df[(titanic_df['Titles']==\"Master\")].shape[0])\n",
    "print(titanic_df[(titanic_df['Survived']==1) & (titanic_df['Titles']==\"Dr\")].shape[0]/titanic_df[(titanic_df['Titles']==\"Dr\")].shape[0])\n",
    "print(titanic_df[(titanic_df['Survived']==1) & (titanic_df['Titles']==\"Mme\")].shape[0]/titanic_df[(titanic_df['Titles']==\"Mme\")].shape[0])\n",
    "print(titanic_df[(titanic_df['Survived']==1) & (titanic_df['Titles']==\"Ms\")].shape[0]/titanic_df[(titanic_df['Titles']==\"Ms\")].shape[0])\n",
    "print(titanic_df[(titanic_df['Survived']==1) & (titanic_df['Titles']==\"Sir\")].shape[0]/titanic_df[(titanic_df['Titles']==\"Sir\")].shape[0])"
   ]
  },
  {
   "cell_type": "code",
   "execution_count": 41,
   "id": "94f83b33",
   "metadata": {},
   "outputs": [],
   "source": [
    "#The survival rate for Mr is 0.16834170854271358\n",
    "#The survival rate for Rev is 0.0\n",
    "#The survival rate for Miss is 0.7191780821917808\n",
    "#The survival rate for Lady is 1.0\n",
    "#The survival rate for Mrs is 0.7870370370370371\n",
    "#The survival rate for Major is 0.5\n",
    "#The survival rate for Don is 0.0\n",
    "#The survival rate for Col is 0.5\n",
    "#The survival rate for Mlle is 1.0\n",
    "#The survival rate for Capt is 0.0\n",
    "#The survival rate for the Countess is 1.0\n",
    "#The survival rate for Jonkheer is 0.0\n",
    "#The survival rate for Master is 0.5833333333333334\n",
    "#The survival rate for Dr is 0.5\n",
    "#The survival rate for Mme is 1.0\n",
    "#The survival rate for Ms is 1.0\n",
    "#The survival rate for Sir is 1.0"
   ]
  },
  {
   "cell_type": "code",
   "execution_count": 42,
   "id": "61b0f1e9",
   "metadata": {},
   "outputs": [
    {
     "name": "stdout",
     "output_type": "stream",
     "text": [
      "Titles\n",
      "Capt              1\n",
      "Col               2\n",
      "Don               1\n",
      "Dr                6\n",
      "Jonkheer          1\n",
      "Lady              1\n",
      "Major             2\n",
      "Master           36\n",
      "Miss            146\n",
      "Mlle              2\n",
      "Mme               1\n",
      "Mr              398\n",
      "Mrs             108\n",
      "Ms                1\n",
      "Rev               6\n",
      "Sir               1\n",
      "the Countess      1\n",
      "Name: Survived, dtype: int64\n"
     ]
    }
   ],
   "source": [
    "#iii.\n",
    "print(titanic_df['Survived'].groupby(titanic_df['Titles']).count()) #see how many people there for each titles"
   ]
  },
  {
   "cell_type": "code",
   "execution_count": 43,
   "id": "6393df2e",
   "metadata": {},
   "outputs": [],
   "source": [
    "#As the survival rate of titles shown above, Lady, Mlle, the countess, Mme, Ms, Sir have the highest survival rate 1.0, while the Rev, Don, and Jonkheer have the lowest survival rate 0.0.\n",
    "#The survival rate of the title Lady, Mlle, the countess, Mme, Ms, and Sir are 1.0, which is the highest among 17 titles, but the total number of pessengers for these titles is also so small around 1 to 2. So the high survival rate for these titles might be coincident and not that significant and worthwhile to further analyze.\n",
    "#Therefore, we can also focus on the titles which has larger populations including Master, Miss, Mr, and Mrs, Mrs has the highest survival rate 0.7870370370370371 and Mr has the lowest survival rate 0.16834170854271358"
   ]
  },
  {
   "cell_type": "code",
   "execution_count": 44,
   "id": "6ad8baed",
   "metadata": {},
   "outputs": [
    {
     "data": {
      "image/png": "[encoded data removed]",
      "text/plain": [
       "<Figure size 432x288 with 1 Axes>"
      ]
     },
     "metadata": {
      "needs_background": "light"
     },
     "output_type": "display_data"
    }
   ],
   "source": [
    "#Q10\n",
    "#i.\n",
    "#Create a bar graph showing the number of people who survived and who lost their lives\n",
    "import matplotlib.pyplot as plt\n",
    "label=['Survived','Not_survived']\n",
    "Sur_con=[290,424]\n",
    "plt.bar(label,Sur_con)\n",
    "plt.title('The bar graph showing the number of people who survived and who lost their lives')\n",
    "plt.xlabel('Survive Condition')\n",
    "plt.ylabel('Number of people')\n",
    "plt.show()"
   ]
  },
  {
   "cell_type": "code",
   "execution_count": 45,
   "id": "d6928faa",
   "metadata": {},
   "outputs": [
    {
     "data": {
      "image/png": "[encoded data removed]",
      "text/plain": [
       "<Figure size 720x504 with 2 Axes>"
      ]
     },
     "metadata": {
      "needs_background": "light"
     },
     "output_type": "display_data"
    }
   ],
   "source": [
    "#ii\n",
    "#Create a heatmap that shows the correlations in color between the numerical variables you have in Q6\n",
    "import seaborn as sns\n",
    "titanic_number_df=titanic_df.drop(columns=['PassengerId','Pclass']) #create a new dataset without the non-numerical variables\n",
    "plt.figure(figsize=(10, 7)) #set the size of the figure\n",
    "heatmap = sns.heatmap(titanic_number_df.corr()); #use the new dataset to create the correlation heatmap\n",
    "heatmap.set_title('Correlation Heatmap between the numerical variables', fontdict={'fontsize':12}, pad=12); #set the heapmap title "
   ]
  },
  {
   "cell_type": "code",
   "execution_count": 46,
   "id": "fb82c958",
   "metadata": {},
   "outputs": [
    {
     "name": "stdout",
     "output_type": "stream",
     "text": [
      "Titles\n",
      "Capt              1\n",
      "Col               2\n",
      "Don               1\n",
      "Dr                6\n",
      "Jonkheer          1\n",
      "Lady              1\n",
      "Major             2\n",
      "Master           36\n",
      "Miss            146\n",
      "Mlle              2\n",
      "Mme               1\n",
      "Mr              398\n",
      "Mrs             108\n",
      "Ms                1\n",
      "Rev               6\n",
      "Sir               1\n",
      "the Countess      1\n",
      "Name: Survived, dtype: int64\n",
      "67\n",
      "105\n",
      "85\n",
      "21\n",
      "3\n",
      "0\n"
     ]
    }
   ],
   "source": [
    "#iii\n",
    "sur_title=titanic_df['Survived'].groupby(titanic_df['Titles']) #see how many people there about survival for each titles\n",
    "print(sur_title.count()) #print the numbers out\n",
    "#calculate how many people survived respectively in the top 6 largest population of titles\n",
    "print(titanic_df[(titanic_df['Survived']==1) & (titanic_df['Titles']==\"Mr\")].shape[0])\n",
    "print(titanic_df[(titanic_df['Survived']==1) & (titanic_df['Titles']==\"Miss\")].shape[0])\n",
    "print(titanic_df[(titanic_df['Survived']==1) & (titanic_df['Titles']==\"Mrs\")].shape[0])\n",
    "print(titanic_df[(titanic_df['Survived']==1) & (titanic_df['Titles']==\"Master\")].shape[0])\n",
    "print(titanic_df[(titanic_df['Survived']==1) & (titanic_df['Titles']==\"Dr\")].shape[0])\n",
    "print(titanic_df[(titanic_df['Survived']==1) & (titanic_df['Titles']==\"Rev\")].shape[0])"
   ]
  },
  {
   "cell_type": "code",
   "execution_count": 47,
   "id": "270f47c9",
   "metadata": {
    "scrolled": true
   },
   "outputs": [
    {
     "data": {
      "image/png": "[encoded data removed]",
      "text/plain": [
       "<Figure size 432x288 with 1 Axes>"
      ]
     },
     "metadata": {
      "needs_background": "light"
     },
     "output_type": "display_data"
    }
   ],
   "source": [
    "#Under the condition accoridng to the top 5 titles according to the most count of survivors, create the bar graph for comparing the survival rates of the top 5 titles who survived the most\n",
    "labels=['Mr','Miss','Mrs','Master','Dr']\n",
    "sur_rate=[67/398,105/146,85/108,21/36,3/6]\n",
    "plt.bar(labels,sur_rate)\n",
    "plt.title('The bar graph showing the survival rates of the top 5 titles who survived the most in the count of survivors')\n",
    "plt.xlabel('Titles')\n",
    "plt.ylabel('Survival rate')\n",
    "plt.show()"
   ]
  },
  {
   "cell_type": "code",
   "execution_count": 48,
   "id": "bef40efc",
   "metadata": {},
   "outputs": [],
   "source": [
    "#The survival rate for Miss is 0.7191780821917808\n",
    "#The survival rate for Mrs is 0.7870370370370371\n",
    "#The survival rate for Mr is 0.16834170854271358\n",
    "#The survival rate for Master is 0.5833333333333334\n",
    "#The survival rate for Dr is 0.5\n",
    "#Therefore, according to the bar graph, among the top 5 titles who survived most, the Mrs has the most highest survival rate, and the Mr has the lowest survival rate."
   ]
  },
  {
   "cell_type": "code",
   "execution_count": 49,
   "id": "f3bb9067",
   "metadata": {},
   "outputs": [
    {
     "data": {
      "image/png": "[encoded data removed]",
      "text/plain": [
       "<Figure size 432x288 with 1 Axes>"
      ]
     },
     "metadata": {
      "needs_background": "light"
     },
     "output_type": "display_data"
    }
   ],
   "source": [
    "#Under the condition accoridng to the top 5 titles according to the highest survival rate, create the bar graph for comparing the survival rates of the top 5 titles who survived the most\n",
    "labels=['Lady','Mlle','Ms','Mme','Sir']\n",
    "sur_rate=[1.0,1.0,1.0,1.0,1.0]\n",
    "plt.bar(labels,sur_rate)\n",
    "plt.title('The bar graph showing the survival rates of the top 5 titles who survived the most in survival rate')\n",
    "plt.xlabel('Titles')\n",
    "plt.ylabel('Survival rate')\n",
    "plt.show()"
   ]
  },
  {
   "cell_type": "code",
   "execution_count": 50,
   "id": "2382ae63",
   "metadata": {},
   "outputs": [],
   "source": [
    "#The top 5 titles who survived the most are Lady, Mlle, Ms, Mme, and Sir. The survival rates for them all equal to 1.0"
   ]
  },
  {
   "cell_type": "code",
   "execution_count": 51,
   "id": "e21dabd1",
   "metadata": {},
   "outputs": [
    {
     "data": {
      "text/plain": [
       "Text(0, 0.5, 'The number of passengers')"
      ]
     },
     "execution_count": 51,
     "metadata": {},
     "output_type": "execute_result"
    },
    {
     "data": {
      "image/png": "[encoded data removed]",
      "text/plain": [
       "<Figure size 432x288 with 1 Axes>"
      ]
     },
     "metadata": {
      "needs_background": "light"
     },
     "output_type": "display_data"
    }
   ],
   "source": [
    "#iv. \n",
    "survived=titanic_df.loc[(titanic_df['Survived']==1)] #the dataset for people survived\n",
    "plt.hist(survived['Fare']) #plot the histogram about fare distribution for the survived passengers\n",
    "plt.title('The histogram of the relationship between ticket fare and survival count')\n",
    "plt.xlabel('Ticket fare')\n",
    "plt.ylabel('The number of passengers')"
   ]
  },
  {
   "cell_type": "code",
   "execution_count": 52,
   "id": "f93cd9f3",
   "metadata": {},
   "outputs": [],
   "source": [
    "#According to the above histogram, if just see the number of survivors with different ticket fare, the distribution is right skewed and the smaller ticket fare range include more numbers of survivors. But here we did not put the original whole number of passengers for different range of ticket fares into account to see the survival rates, just see the number of survivors."
   ]
  },
  {
   "cell_type": "code",
   "execution_count": 53,
   "id": "ce604b8b",
   "metadata": {},
   "outputs": [
    {
     "data": {
      "text/plain": [
       "Text(0, 0.5, 'The number of passengers')"
      ]
     },
     "execution_count": 53,
     "metadata": {},
     "output_type": "execute_result"
    },
    {
     "data": {
      "image/png": "[encoded data removed]",
      "text/plain": [
       "<Figure size 432x288 with 1 Axes>"
      ]
     },
     "metadata": {
      "needs_background": "light"
     },
     "output_type": "display_data"
    }
   ],
   "source": [
    "no_survived=titanic_df.loc[(titanic_df['Survived']==0)] #the dataset for people did not survive\n",
    "plt.hist(titanic_df['Fare']) #plot the histogram about fare distribution for the whole passengers\n",
    "plt.hist(survived['Fare']) #plot the histogram about fare distribution for the survived passengers\n",
    "plt.hist(no_survived['Fare']) #plot the histogram about fare distribution for the died passengers\n",
    "plt.title('The histogram of various survived conditions with different fares \\n (Blue shows the whole, Orange shows the survived, and Green shows the not survived )')\n",
    "plt.xlabel('Ticket fare')\n",
    "plt.ylabel('The number of passengers')"
   ]
  },
  {
   "cell_type": "code",
   "execution_count": 54,
   "id": "8bfa78a6",
   "metadata": {},
   "outputs": [],
   "source": [
    "#According to the histogram above, we can compare the whole number of passengers and the corresponding count of survivors, and find that the survival rate see that as the ticket fare is higher, the survival rate(Survived passengers to all passengers) increases."
   ]
  }
 ],
 "metadata": {
  "kernelspec": {
   "display_name": "Python 3 (ipykernel)",
   "language": "python",
   "name": "python3"
  },
  "language_info": {
   "codemirror_mode": {
    "name": "ipython",
    "version": 3
   },
   "file_extension": ".py",
   "mimetype": "text/x-python",
   "name": "python",
   "nbconvert_exporter": "python",
   "pygments_lexer": "ipython3",
   "version": "3.8.11"
  }
 },
 "nbformat": 4,
 "nbformat_minor": 5
}
