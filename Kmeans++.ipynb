{
 "cells": [
  {
   "cell_type": "code",
   "execution_count": 1,
   "id": "ce88e0fd",
   "metadata": {},
   "outputs": [
    {
     "data": {
      "text/html": [
       "<div>\n",
       "<style scoped>\n",
       "    .dataframe tbody tr th:only-of-type {\n",
       "        vertical-align: middle;\n",
       "    }\n",
       "\n",
       "    .dataframe tbody tr th {\n",
       "        vertical-align: top;\n",
       "    }\n",
       "\n",
       "    .dataframe thead th {\n",
       "        text-align: right;\n",
       "    }\n",
       "</style>\n",
       "<table border=\"1\" class=\"dataframe\">\n",
       "  <thead>\n",
       "    <tr style=\"text-align: right;\">\n",
       "      <th></th>\n",
       "      <th>age</th>\n",
       "      <th>anaemia</th>\n",
       "      <th>creatinine_phosphokinase</th>\n",
       "      <th>diabetes</th>\n",
       "      <th>ejection_fraction</th>\n",
       "      <th>high_blood_pressure</th>\n",
       "      <th>platelets</th>\n",
       "      <th>serum_creatinine</th>\n",
       "      <th>serum_sodium</th>\n",
       "      <th>sex</th>\n",
       "      <th>smoking</th>\n",
       "      <th>time</th>\n",
       "      <th>DEATH_EVENT</th>\n",
       "    </tr>\n",
       "  </thead>\n",
       "  <tbody>\n",
       "    <tr>\n",
       "      <th>0</th>\n",
       "      <td>75.0</td>\n",
       "      <td>0</td>\n",
       "      <td>582</td>\n",
       "      <td>0</td>\n",
       "      <td>20</td>\n",
       "      <td>1</td>\n",
       "      <td>265000.00</td>\n",
       "      <td>1.9</td>\n",
       "      <td>130</td>\n",
       "      <td>1</td>\n",
       "      <td>0</td>\n",
       "      <td>4</td>\n",
       "      <td>1</td>\n",
       "    </tr>\n",
       "    <tr>\n",
       "      <th>1</th>\n",
       "      <td>55.0</td>\n",
       "      <td>0</td>\n",
       "      <td>7861</td>\n",
       "      <td>0</td>\n",
       "      <td>38</td>\n",
       "      <td>0</td>\n",
       "      <td>263358.03</td>\n",
       "      <td>1.1</td>\n",
       "      <td>136</td>\n",
       "      <td>1</td>\n",
       "      <td>0</td>\n",
       "      <td>6</td>\n",
       "      <td>1</td>\n",
       "    </tr>\n",
       "    <tr>\n",
       "      <th>2</th>\n",
       "      <td>65.0</td>\n",
       "      <td>0</td>\n",
       "      <td>146</td>\n",
       "      <td>0</td>\n",
       "      <td>20</td>\n",
       "      <td>0</td>\n",
       "      <td>162000.00</td>\n",
       "      <td>1.3</td>\n",
       "      <td>129</td>\n",
       "      <td>1</td>\n",
       "      <td>1</td>\n",
       "      <td>7</td>\n",
       "      <td>1</td>\n",
       "    </tr>\n",
       "    <tr>\n",
       "      <th>3</th>\n",
       "      <td>50.0</td>\n",
       "      <td>1</td>\n",
       "      <td>111</td>\n",
       "      <td>0</td>\n",
       "      <td>20</td>\n",
       "      <td>0</td>\n",
       "      <td>210000.00</td>\n",
       "      <td>1.9</td>\n",
       "      <td>137</td>\n",
       "      <td>1</td>\n",
       "      <td>0</td>\n",
       "      <td>7</td>\n",
       "      <td>1</td>\n",
       "    </tr>\n",
       "    <tr>\n",
       "      <th>4</th>\n",
       "      <td>65.0</td>\n",
       "      <td>1</td>\n",
       "      <td>160</td>\n",
       "      <td>1</td>\n",
       "      <td>20</td>\n",
       "      <td>0</td>\n",
       "      <td>327000.00</td>\n",
       "      <td>2.7</td>\n",
       "      <td>116</td>\n",
       "      <td>0</td>\n",
       "      <td>0</td>\n",
       "      <td>8</td>\n",
       "      <td>1</td>\n",
       "    </tr>\n",
       "    <tr>\n",
       "      <th>...</th>\n",
       "      <td>...</td>\n",
       "      <td>...</td>\n",
       "      <td>...</td>\n",
       "      <td>...</td>\n",
       "      <td>...</td>\n",
       "      <td>...</td>\n",
       "      <td>...</td>\n",
       "      <td>...</td>\n",
       "      <td>...</td>\n",
       "      <td>...</td>\n",
       "      <td>...</td>\n",
       "      <td>...</td>\n",
       "      <td>...</td>\n",
       "    </tr>\n",
       "    <tr>\n",
       "      <th>294</th>\n",
       "      <td>62.0</td>\n",
       "      <td>0</td>\n",
       "      <td>61</td>\n",
       "      <td>1</td>\n",
       "      <td>38</td>\n",
       "      <td>1</td>\n",
       "      <td>155000.00</td>\n",
       "      <td>1.1</td>\n",
       "      <td>143</td>\n",
       "      <td>1</td>\n",
       "      <td>1</td>\n",
       "      <td>270</td>\n",
       "      <td>0</td>\n",
       "    </tr>\n",
       "    <tr>\n",
       "      <th>295</th>\n",
       "      <td>55.0</td>\n",
       "      <td>0</td>\n",
       "      <td>1820</td>\n",
       "      <td>0</td>\n",
       "      <td>38</td>\n",
       "      <td>0</td>\n",
       "      <td>270000.00</td>\n",
       "      <td>1.2</td>\n",
       "      <td>139</td>\n",
       "      <td>0</td>\n",
       "      <td>0</td>\n",
       "      <td>271</td>\n",
       "      <td>0</td>\n",
       "    </tr>\n",
       "    <tr>\n",
       "      <th>296</th>\n",
       "      <td>45.0</td>\n",
       "      <td>0</td>\n",
       "      <td>2060</td>\n",
       "      <td>1</td>\n",
       "      <td>60</td>\n",
       "      <td>0</td>\n",
       "      <td>742000.00</td>\n",
       "      <td>0.8</td>\n",
       "      <td>138</td>\n",
       "      <td>0</td>\n",
       "      <td>0</td>\n",
       "      <td>278</td>\n",
       "      <td>0</td>\n",
       "    </tr>\n",
       "    <tr>\n",
       "      <th>297</th>\n",
       "      <td>45.0</td>\n",
       "      <td>0</td>\n",
       "      <td>2413</td>\n",
       "      <td>0</td>\n",
       "      <td>38</td>\n",
       "      <td>0</td>\n",
       "      <td>140000.00</td>\n",
       "      <td>1.4</td>\n",
       "      <td>140</td>\n",
       "      <td>1</td>\n",
       "      <td>1</td>\n",
       "      <td>280</td>\n",
       "      <td>0</td>\n",
       "    </tr>\n",
       "    <tr>\n",
       "      <th>298</th>\n",
       "      <td>50.0</td>\n",
       "      <td>0</td>\n",
       "      <td>196</td>\n",
       "      <td>0</td>\n",
       "      <td>45</td>\n",
       "      <td>0</td>\n",
       "      <td>395000.00</td>\n",
       "      <td>1.6</td>\n",
       "      <td>136</td>\n",
       "      <td>1</td>\n",
       "      <td>1</td>\n",
       "      <td>285</td>\n",
       "      <td>0</td>\n",
       "    </tr>\n",
       "  </tbody>\n",
       "</table>\n",
       "<p>299 rows × 13 columns</p>\n",
       "</div>"
      ],
      "text/plain": [
       "      age  anaemia  creatinine_phosphokinase  diabetes  ejection_fraction  \\\n",
       "0    75.0        0                       582         0                 20   \n",
       "1    55.0        0                      7861         0                 38   \n",
       "2    65.0        0                       146         0                 20   \n",
       "3    50.0        1                       111         0                 20   \n",
       "4    65.0        1                       160         1                 20   \n",
       "..    ...      ...                       ...       ...                ...   \n",
       "294  62.0        0                        61         1                 38   \n",
       "295  55.0        0                      1820         0                 38   \n",
       "296  45.0        0                      2060         1                 60   \n",
       "297  45.0        0                      2413         0                 38   \n",
       "298  50.0        0                       196         0                 45   \n",
       "\n",
       "     high_blood_pressure  platelets  serum_creatinine  serum_sodium  sex  \\\n",
       "0                      1  265000.00               1.9           130    1   \n",
       "1                      0  263358.03               1.1           136    1   \n",
       "2                      0  162000.00               1.3           129    1   \n",
       "3                      0  210000.00               1.9           137    1   \n",
       "4                      0  327000.00               2.7           116    0   \n",
       "..                   ...        ...               ...           ...  ...   \n",
       "294                    1  155000.00               1.1           143    1   \n",
       "295                    0  270000.00               1.2           139    0   \n",
       "296                    0  742000.00               0.8           138    0   \n",
       "297                    0  140000.00               1.4           140    1   \n",
       "298                    0  395000.00               1.6           136    1   \n",
       "\n",
       "     smoking  time  DEATH_EVENT  \n",
       "0          0     4            1  \n",
       "1          0     6            1  \n",
       "2          1     7            1  \n",
       "3          0     7            1  \n",
       "4          0     8            1  \n",
       "..       ...   ...          ...  \n",
       "294        1   270            0  \n",
       "295        0   271            0  \n",
       "296        0   278            0  \n",
       "297        1   280            0  \n",
       "298        1   285            0  \n",
       "\n",
       "[299 rows x 13 columns]"
      ]
     },
     "execution_count": 1,
     "metadata": {},
     "output_type": "execute_result"
    }
   ],
   "source": [
    "import pandas as pd \n",
    "heart1_df=pd.read_csv('/Users/carol/Desktop/heart_failure_clinical_records_dataset.csv') \n",
    "heart1_df "
   ]
  },
  {
   "cell_type": "code",
   "execution_count": 2,
   "id": "eca6fe39",
   "metadata": {},
   "outputs": [],
   "source": [
    "#apply 0-1 normalization\n",
    "from sklearn.preprocessing import minmax_scale\n",
    "heart_df=pd.DataFrame(minmax_scale(heart1_df), columns=heart1_df.columns, index=heart1_df.index)"
   ]
  },
  {
   "cell_type": "code",
   "execution_count": 3,
   "id": "e1768ae3",
   "metadata": {},
   "outputs": [],
   "source": [
    "#1)\n",
    "import sklearn\n",
    "from sklearn.cluster import KMeans\n",
    "kmeans2=KMeans(n_clusters=2, init='k-means++')\n",
    "kmeans2.fit(heart_df)\n",
    "labels2=kmeans2.labels_"
   ]
  },
  {
   "cell_type": "code",
   "execution_count": 4,
   "id": "164b1e48",
   "metadata": {},
   "outputs": [],
   "source": [
    "kmeans3=KMeans(n_clusters=3, init='k-means++')\n",
    "kmeans3.fit(heart_df)\n",
    "labels3=kmeans3.labels_"
   ]
  },
  {
   "cell_type": "code",
   "execution_count": 5,
   "id": "f4d7908b",
   "metadata": {},
   "outputs": [],
   "source": [
    "kmeans4=KMeans(n_clusters=4, init='k-means++')\n",
    "kmeans4.fit(heart_df)\n",
    "labels4=kmeans4.labels_"
   ]
  },
  {
   "cell_type": "code",
   "execution_count": 6,
   "id": "d4b52c68",
   "metadata": {},
   "outputs": [],
   "source": [
    "kmeans5=KMeans(n_clusters=5, init='k-means++')\n",
    "kmeans5.fit(heart_df)\n",
    "labels5=kmeans5.labels_"
   ]
  },
  {
   "cell_type": "code",
   "execution_count": 7,
   "id": "1966231b",
   "metadata": {},
   "outputs": [],
   "source": [
    "kmeans6=KMeans(n_clusters=6, init='k-means++')\n",
    "kmeans6.fit(heart_df)\n",
    "labels6=kmeans6.labels_"
   ]
  },
  {
   "cell_type": "code",
   "execution_count": 8,
   "id": "493fcaa5",
   "metadata": {},
   "outputs": [],
   "source": [
    "kmeans7=KMeans(n_clusters=7, init='k-means++')\n",
    "kmeans7.fit(heart_df)\n",
    "labels7=kmeans7.labels_"
   ]
  },
  {
   "cell_type": "code",
   "execution_count": 9,
   "id": "edd91b94",
   "metadata": {},
   "outputs": [],
   "source": [
    "kmeans8=KMeans(n_clusters=8, init='k-means++')\n",
    "kmeans8.fit(heart_df)\n",
    "labels8=kmeans8.labels_"
   ]
  },
  {
   "cell_type": "code",
   "execution_count": 10,
   "id": "78172331",
   "metadata": {},
   "outputs": [],
   "source": [
    "kmeans9=KMeans(n_clusters=9, init='k-means++')\n",
    "kmeans9.fit(heart_df)\n",
    "labels9=kmeans9.labels_"
   ]
  },
  {
   "cell_type": "code",
   "execution_count": 11,
   "id": "e19cae65",
   "metadata": {},
   "outputs": [],
   "source": [
    "kmeans10=KMeans(n_clusters=10, init='k-means++')\n",
    "kmeans10.fit(heart_df)\n",
    "labels10=kmeans10.labels_"
   ]
  },
  {
   "cell_type": "code",
   "execution_count": 12,
   "id": "2ebdba84",
   "metadata": {},
   "outputs": [
    {
     "data": {
      "text/plain": [
       "64.18847916646915"
      ]
     },
     "execution_count": 12,
     "metadata": {},
     "output_type": "execute_result"
    }
   ],
   "source": [
    "#2）\n",
    "from sklearn import metrics\n",
    "X=heart_df\n",
    "metrics.calinski_harabasz_score(X, labels2)"
   ]
  },
  {
   "cell_type": "code",
   "execution_count": 13,
   "id": "5f6d10ce",
   "metadata": {},
   "outputs": [
    {
     "data": {
      "text/plain": [
       "57.673862189378646"
      ]
     },
     "execution_count": 13,
     "metadata": {},
     "output_type": "execute_result"
    }
   ],
   "source": [
    "metrics.calinski_harabasz_score(X, labels3)"
   ]
  },
  {
   "cell_type": "code",
   "execution_count": 14,
   "id": "9bb2d044",
   "metadata": {},
   "outputs": [
    {
     "data": {
      "text/plain": [
       "53.06361493554652"
      ]
     },
     "execution_count": 14,
     "metadata": {},
     "output_type": "execute_result"
    }
   ],
   "source": [
    "metrics.calinski_harabasz_score(X, labels4)"
   ]
  },
  {
   "cell_type": "code",
   "execution_count": 15,
   "id": "eedf356d",
   "metadata": {},
   "outputs": [
    {
     "data": {
      "text/plain": [
       "47.151973829194375"
      ]
     },
     "execution_count": 15,
     "metadata": {},
     "output_type": "execute_result"
    }
   ],
   "source": [
    "metrics.calinski_harabasz_score(X, labels5)"
   ]
  },
  {
   "cell_type": "code",
   "execution_count": 16,
   "id": "2ab61f32",
   "metadata": {},
   "outputs": [
    {
     "data": {
      "text/plain": [
       "44.264283826041435"
      ]
     },
     "execution_count": 16,
     "metadata": {},
     "output_type": "execute_result"
    }
   ],
   "source": [
    "metrics.calinski_harabasz_score(X, labels6)"
   ]
  },
  {
   "cell_type": "code",
   "execution_count": 17,
   "id": "8895ca96",
   "metadata": {},
   "outputs": [
    {
     "data": {
      "text/plain": [
       "43.133576334766126"
      ]
     },
     "execution_count": 17,
     "metadata": {},
     "output_type": "execute_result"
    }
   ],
   "source": [
    "metrics.calinski_harabasz_score(X, labels7)"
   ]
  },
  {
   "cell_type": "code",
   "execution_count": 18,
   "id": "29ddca4b",
   "metadata": {},
   "outputs": [
    {
     "data": {
      "text/plain": [
       "41.767891701121435"
      ]
     },
     "execution_count": 18,
     "metadata": {},
     "output_type": "execute_result"
    }
   ],
   "source": [
    "metrics.calinski_harabasz_score(X, labels8)"
   ]
  },
  {
   "cell_type": "code",
   "execution_count": 19,
   "id": "23a25b5c",
   "metadata": {},
   "outputs": [
    {
     "data": {
      "text/plain": [
       "41.39530452396225"
      ]
     },
     "execution_count": 19,
     "metadata": {},
     "output_type": "execute_result"
    }
   ],
   "source": [
    "metrics.calinski_harabasz_score(X, labels9)"
   ]
  },
  {
   "cell_type": "code",
   "execution_count": 20,
   "id": "2c1ee23b",
   "metadata": {},
   "outputs": [
    {
     "data": {
      "text/plain": [
       "40.827490764247074"
      ]
     },
     "execution_count": 20,
     "metadata": {},
     "output_type": "execute_result"
    }
   ],
   "source": [
    "metrics.calinski_harabasz_score(X, labels10)"
   ]
  },
  {
   "cell_type": "code",
   "execution_count": 21,
   "id": "d8efc7aa",
   "metadata": {},
   "outputs": [],
   "source": [
    "# n=2 is where CH-score is the highest."
   ]
  },
  {
   "cell_type": "code",
   "execution_count": 22,
   "id": "45034a28",
   "metadata": {},
   "outputs": [
    {
     "data": {
      "text/html": [
       "<div>\n",
       "<style scoped>\n",
       "    .dataframe tbody tr th:only-of-type {\n",
       "        vertical-align: middle;\n",
       "    }\n",
       "\n",
       "    .dataframe tbody tr th {\n",
       "        vertical-align: top;\n",
       "    }\n",
       "\n",
       "    .dataframe thead th {\n",
       "        text-align: right;\n",
       "    }\n",
       "</style>\n",
       "<table border=\"1\" class=\"dataframe\">\n",
       "  <thead>\n",
       "    <tr style=\"text-align: right;\">\n",
       "      <th></th>\n",
       "      <th>age</th>\n",
       "      <th>anaemia</th>\n",
       "      <th>creatinine_phosphokinase</th>\n",
       "      <th>diabetes</th>\n",
       "      <th>ejection_fraction</th>\n",
       "      <th>high_blood_pressure</th>\n",
       "      <th>platelets</th>\n",
       "      <th>serum_creatinine</th>\n",
       "      <th>serum_sodium</th>\n",
       "      <th>sex</th>\n",
       "      <th>smoking</th>\n",
       "      <th>time</th>\n",
       "      <th>DEATH_EVENT</th>\n",
       "      <th>label</th>\n",
       "    </tr>\n",
       "  </thead>\n",
       "  <tbody>\n",
       "    <tr>\n",
       "      <th>0</th>\n",
       "      <td>0.636364</td>\n",
       "      <td>0.0</td>\n",
       "      <td>0.071319</td>\n",
       "      <td>0.0</td>\n",
       "      <td>0.090909</td>\n",
       "      <td>1.0</td>\n",
       "      <td>0.290823</td>\n",
       "      <td>0.157303</td>\n",
       "      <td>0.485714</td>\n",
       "      <td>1.0</td>\n",
       "      <td>0.0</td>\n",
       "      <td>0.000000</td>\n",
       "      <td>1.0</td>\n",
       "      <td>0</td>\n",
       "    </tr>\n",
       "    <tr>\n",
       "      <th>1</th>\n",
       "      <td>0.272727</td>\n",
       "      <td>0.0</td>\n",
       "      <td>1.000000</td>\n",
       "      <td>0.0</td>\n",
       "      <td>0.363636</td>\n",
       "      <td>0.0</td>\n",
       "      <td>0.288833</td>\n",
       "      <td>0.067416</td>\n",
       "      <td>0.657143</td>\n",
       "      <td>1.0</td>\n",
       "      <td>0.0</td>\n",
       "      <td>0.007117</td>\n",
       "      <td>1.0</td>\n",
       "      <td>0</td>\n",
       "    </tr>\n",
       "    <tr>\n",
       "      <th>2</th>\n",
       "      <td>0.454545</td>\n",
       "      <td>0.0</td>\n",
       "      <td>0.015693</td>\n",
       "      <td>0.0</td>\n",
       "      <td>0.090909</td>\n",
       "      <td>0.0</td>\n",
       "      <td>0.165960</td>\n",
       "      <td>0.089888</td>\n",
       "      <td>0.457143</td>\n",
       "      <td>1.0</td>\n",
       "      <td>1.0</td>\n",
       "      <td>0.010676</td>\n",
       "      <td>1.0</td>\n",
       "      <td>0</td>\n",
       "    </tr>\n",
       "    <tr>\n",
       "      <th>3</th>\n",
       "      <td>0.181818</td>\n",
       "      <td>1.0</td>\n",
       "      <td>0.011227</td>\n",
       "      <td>0.0</td>\n",
       "      <td>0.090909</td>\n",
       "      <td>0.0</td>\n",
       "      <td>0.224148</td>\n",
       "      <td>0.157303</td>\n",
       "      <td>0.685714</td>\n",
       "      <td>1.0</td>\n",
       "      <td>0.0</td>\n",
       "      <td>0.010676</td>\n",
       "      <td>1.0</td>\n",
       "      <td>0</td>\n",
       "    </tr>\n",
       "    <tr>\n",
       "      <th>4</th>\n",
       "      <td>0.454545</td>\n",
       "      <td>1.0</td>\n",
       "      <td>0.017479</td>\n",
       "      <td>1.0</td>\n",
       "      <td>0.090909</td>\n",
       "      <td>0.0</td>\n",
       "      <td>0.365984</td>\n",
       "      <td>0.247191</td>\n",
       "      <td>0.085714</td>\n",
       "      <td>0.0</td>\n",
       "      <td>0.0</td>\n",
       "      <td>0.014235</td>\n",
       "      <td>1.0</td>\n",
       "      <td>1</td>\n",
       "    </tr>\n",
       "    <tr>\n",
       "      <th>...</th>\n",
       "      <td>...</td>\n",
       "      <td>...</td>\n",
       "      <td>...</td>\n",
       "      <td>...</td>\n",
       "      <td>...</td>\n",
       "      <td>...</td>\n",
       "      <td>...</td>\n",
       "      <td>...</td>\n",
       "      <td>...</td>\n",
       "      <td>...</td>\n",
       "      <td>...</td>\n",
       "      <td>...</td>\n",
       "      <td>...</td>\n",
       "      <td>...</td>\n",
       "    </tr>\n",
       "    <tr>\n",
       "      <th>294</th>\n",
       "      <td>0.400000</td>\n",
       "      <td>0.0</td>\n",
       "      <td>0.004848</td>\n",
       "      <td>1.0</td>\n",
       "      <td>0.363636</td>\n",
       "      <td>1.0</td>\n",
       "      <td>0.157474</td>\n",
       "      <td>0.067416</td>\n",
       "      <td>0.857143</td>\n",
       "      <td>1.0</td>\n",
       "      <td>1.0</td>\n",
       "      <td>0.946619</td>\n",
       "      <td>0.0</td>\n",
       "      <td>0</td>\n",
       "    </tr>\n",
       "    <tr>\n",
       "      <th>295</th>\n",
       "      <td>0.272727</td>\n",
       "      <td>0.0</td>\n",
       "      <td>0.229268</td>\n",
       "      <td>0.0</td>\n",
       "      <td>0.363636</td>\n",
       "      <td>0.0</td>\n",
       "      <td>0.296884</td>\n",
       "      <td>0.078652</td>\n",
       "      <td>0.742857</td>\n",
       "      <td>0.0</td>\n",
       "      <td>0.0</td>\n",
       "      <td>0.950178</td>\n",
       "      <td>0.0</td>\n",
       "      <td>1</td>\n",
       "    </tr>\n",
       "    <tr>\n",
       "      <th>296</th>\n",
       "      <td>0.090909</td>\n",
       "      <td>0.0</td>\n",
       "      <td>0.259888</td>\n",
       "      <td>1.0</td>\n",
       "      <td>0.696970</td>\n",
       "      <td>0.0</td>\n",
       "      <td>0.869075</td>\n",
       "      <td>0.033708</td>\n",
       "      <td>0.714286</td>\n",
       "      <td>0.0</td>\n",
       "      <td>0.0</td>\n",
       "      <td>0.975089</td>\n",
       "      <td>0.0</td>\n",
       "      <td>1</td>\n",
       "    </tr>\n",
       "    <tr>\n",
       "      <th>297</th>\n",
       "      <td>0.090909</td>\n",
       "      <td>0.0</td>\n",
       "      <td>0.304925</td>\n",
       "      <td>0.0</td>\n",
       "      <td>0.363636</td>\n",
       "      <td>0.0</td>\n",
       "      <td>0.139290</td>\n",
       "      <td>0.101124</td>\n",
       "      <td>0.771429</td>\n",
       "      <td>1.0</td>\n",
       "      <td>1.0</td>\n",
       "      <td>0.982206</td>\n",
       "      <td>0.0</td>\n",
       "      <td>0</td>\n",
       "    </tr>\n",
       "    <tr>\n",
       "      <th>298</th>\n",
       "      <td>0.181818</td>\n",
       "      <td>0.0</td>\n",
       "      <td>0.022072</td>\n",
       "      <td>0.0</td>\n",
       "      <td>0.469697</td>\n",
       "      <td>0.0</td>\n",
       "      <td>0.448418</td>\n",
       "      <td>0.123596</td>\n",
       "      <td>0.657143</td>\n",
       "      <td>1.0</td>\n",
       "      <td>1.0</td>\n",
       "      <td>1.000000</td>\n",
       "      <td>0.0</td>\n",
       "      <td>0</td>\n",
       "    </tr>\n",
       "  </tbody>\n",
       "</table>\n",
       "<p>299 rows × 14 columns</p>\n",
       "</div>"
      ],
      "text/plain": [
       "          age  anaemia  creatinine_phosphokinase  diabetes  ejection_fraction  \\\n",
       "0    0.636364      0.0                  0.071319       0.0           0.090909   \n",
       "1    0.272727      0.0                  1.000000       0.0           0.363636   \n",
       "2    0.454545      0.0                  0.015693       0.0           0.090909   \n",
       "3    0.181818      1.0                  0.011227       0.0           0.090909   \n",
       "4    0.454545      1.0                  0.017479       1.0           0.090909   \n",
       "..        ...      ...                       ...       ...                ...   \n",
       "294  0.400000      0.0                  0.004848       1.0           0.363636   \n",
       "295  0.272727      0.0                  0.229268       0.0           0.363636   \n",
       "296  0.090909      0.0                  0.259888       1.0           0.696970   \n",
       "297  0.090909      0.0                  0.304925       0.0           0.363636   \n",
       "298  0.181818      0.0                  0.022072       0.0           0.469697   \n",
       "\n",
       "     high_blood_pressure  platelets  serum_creatinine  serum_sodium  sex  \\\n",
       "0                    1.0   0.290823          0.157303      0.485714  1.0   \n",
       "1                    0.0   0.288833          0.067416      0.657143  1.0   \n",
       "2                    0.0   0.165960          0.089888      0.457143  1.0   \n",
       "3                    0.0   0.224148          0.157303      0.685714  1.0   \n",
       "4                    0.0   0.365984          0.247191      0.085714  0.0   \n",
       "..                   ...        ...               ...           ...  ...   \n",
       "294                  1.0   0.157474          0.067416      0.857143  1.0   \n",
       "295                  0.0   0.296884          0.078652      0.742857  0.0   \n",
       "296                  0.0   0.869075          0.033708      0.714286  0.0   \n",
       "297                  0.0   0.139290          0.101124      0.771429  1.0   \n",
       "298                  0.0   0.448418          0.123596      0.657143  1.0   \n",
       "\n",
       "     smoking      time  DEATH_EVENT  label  \n",
       "0        0.0  0.000000          1.0      0  \n",
       "1        0.0  0.007117          1.0      0  \n",
       "2        1.0  0.010676          1.0      0  \n",
       "3        0.0  0.010676          1.0      0  \n",
       "4        0.0  0.014235          1.0      1  \n",
       "..       ...       ...          ...    ...  \n",
       "294      1.0  0.946619          0.0      0  \n",
       "295      0.0  0.950178          0.0      1  \n",
       "296      0.0  0.975089          0.0      1  \n",
       "297      1.0  0.982206          0.0      0  \n",
       "298      1.0  1.000000          0.0      0  \n",
       "\n",
       "[299 rows x 14 columns]"
      ]
     },
     "execution_count": 22,
     "metadata": {},
     "output_type": "execute_result"
    }
   ],
   "source": [
    "#3)\n",
    "#Since n=2 is where CH-score is the highest, I just add the labels when n=2 to the normalized dataset.\n",
    "heart_df['label']=labels2\n",
    "heart_df"
   ]
  },
  {
   "cell_type": "code",
   "execution_count": 23,
   "id": "8f484bea",
   "metadata": {},
   "outputs": [],
   "source": [
    "#4)\n",
    "from sklearn.decomposition import PCA\n",
    "data_pca=PCA(n_components=2).fit_transform(heart_df)\n",
    "pca_dim1=[row[0] for row in data_pca]\n",
    "pca_dim2=[row[1] for row in data_pca]"
   ]
  },
  {
   "cell_type": "code",
   "execution_count": 24,
   "id": "177c9abd",
   "metadata": {},
   "outputs": [
    {
     "data": {
      "image/png": "[encoded data removed]",
      "text/plain": [
       "<Figure size 432x288 with 1 Axes>"
      ]
     },
     "metadata": {
      "needs_background": "light"
     },
     "output_type": "display_data"
    }
   ],
   "source": [
    "#5)\n",
    "import matplotlib.pyplot as plt\n",
    "plt.scatter(pca_dim1, pca_dim2)\n",
    "plt.title('Scatter plot')\n",
    "plt.xlabel('pca_dim1')\n",
    "plt.ylabel('pca_dim2')\n",
    "plt.show()"
   ]
  }
 ],
 "metadata": {
  "kernelspec": {
   "display_name": "Python 3 (ipykernel)",
   "language": "python",
   "name": "python3"
  },
  "language_info": {
   "codemirror_mode": {
    "name": "ipython",
    "version": 3
   },
   "file_extension": ".py",
   "mimetype": "text/x-python",
   "name": "python",
   "nbconvert_exporter": "python",
   "pygments_lexer": "ipython3",
   "version": "3.8.11"
  }
 },
 "nbformat": 4,
 "nbformat_minor": 5
}
